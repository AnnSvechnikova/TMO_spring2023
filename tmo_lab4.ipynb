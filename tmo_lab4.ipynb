{
 "cells": [
  {
   "cell_type": "markdown",
   "id": "81ec8982",
   "metadata": {},
   "source": [
    "# Линейные модели, SVM и деревья решений."
   ]
  },
  {
   "cell_type": "code",
   "execution_count": 1,
   "id": "27fba421",
   "metadata": {},
   "outputs": [],
   "source": [
    "import pandas as pd\n",
    "import numpy as np\n",
    "import seaborn as sns\n",
    "import matplotlib as plt"
   ]
  },
  {
   "cell_type": "code",
   "execution_count": 2,
   "id": "3e15abbf",
   "metadata": {},
   "outputs": [],
   "source": [
    "stars = pd.read_csv(\"star-type-classification/Stars.csv\")"
   ]
  },
  {
   "cell_type": "markdown",
   "id": "11236a76",
   "metadata": {},
   "source": [
    "Загрузили датасет, содержащий данные НАСА о звездах. Датасет содержит следующие столбцы:\n",
    "* Temperature - температура в Кельвинах\n",
    "* L - относительная яркость\n",
    "* R - относительный радиус\n",
    "* A_M - абсолютная звездная величина\n",
    "* Color - цвет\n",
    "* Spectral_Class - спектральный класс\n",
    "* Type - тип\n"
   ]
  },
  {
   "cell_type": "code",
   "execution_count": 3,
   "id": "9cd2f203",
   "metadata": {},
   "outputs": [
    {
     "data": {
      "text/html": [
       "<div>\n",
       "<style scoped>\n",
       "    .dataframe tbody tr th:only-of-type {\n",
       "        vertical-align: middle;\n",
       "    }\n",
       "\n",
       "    .dataframe tbody tr th {\n",
       "        vertical-align: top;\n",
       "    }\n",
       "\n",
       "    .dataframe thead th {\n",
       "        text-align: right;\n",
       "    }\n",
       "</style>\n",
       "<table border=\"1\" class=\"dataframe\">\n",
       "  <thead>\n",
       "    <tr style=\"text-align: right;\">\n",
       "      <th></th>\n",
       "      <th>Temperature</th>\n",
       "      <th>L</th>\n",
       "      <th>R</th>\n",
       "      <th>A_M</th>\n",
       "      <th>Color</th>\n",
       "      <th>Spectral_Class</th>\n",
       "      <th>Type</th>\n",
       "    </tr>\n",
       "  </thead>\n",
       "  <tbody>\n",
       "    <tr>\n",
       "      <th>0</th>\n",
       "      <td>3068</td>\n",
       "      <td>0.002400</td>\n",
       "      <td>0.1700</td>\n",
       "      <td>16.12</td>\n",
       "      <td>Red</td>\n",
       "      <td>M</td>\n",
       "      <td>0</td>\n",
       "    </tr>\n",
       "    <tr>\n",
       "      <th>1</th>\n",
       "      <td>3042</td>\n",
       "      <td>0.000500</td>\n",
       "      <td>0.1542</td>\n",
       "      <td>16.60</td>\n",
       "      <td>Red</td>\n",
       "      <td>M</td>\n",
       "      <td>0</td>\n",
       "    </tr>\n",
       "    <tr>\n",
       "      <th>2</th>\n",
       "      <td>2600</td>\n",
       "      <td>0.000300</td>\n",
       "      <td>0.1020</td>\n",
       "      <td>18.70</td>\n",
       "      <td>Red</td>\n",
       "      <td>M</td>\n",
       "      <td>0</td>\n",
       "    </tr>\n",
       "    <tr>\n",
       "      <th>3</th>\n",
       "      <td>2800</td>\n",
       "      <td>0.000200</td>\n",
       "      <td>0.1600</td>\n",
       "      <td>16.65</td>\n",
       "      <td>Red</td>\n",
       "      <td>M</td>\n",
       "      <td>0</td>\n",
       "    </tr>\n",
       "    <tr>\n",
       "      <th>4</th>\n",
       "      <td>1939</td>\n",
       "      <td>0.000138</td>\n",
       "      <td>0.1030</td>\n",
       "      <td>20.06</td>\n",
       "      <td>Red</td>\n",
       "      <td>M</td>\n",
       "      <td>0</td>\n",
       "    </tr>\n",
       "  </tbody>\n",
       "</table>\n",
       "</div>"
      ],
      "text/plain": [
       "   Temperature         L       R    A_M Color Spectral_Class  Type\n",
       "0         3068  0.002400  0.1700  16.12   Red              M     0\n",
       "1         3042  0.000500  0.1542  16.60   Red              M     0\n",
       "2         2600  0.000300  0.1020  18.70   Red              M     0\n",
       "3         2800  0.000200  0.1600  16.65   Red              M     0\n",
       "4         1939  0.000138  0.1030  20.06   Red              M     0"
      ]
     },
     "execution_count": 3,
     "metadata": {},
     "output_type": "execute_result"
    }
   ],
   "source": [
    "stars.head()"
   ]
  },
  {
   "cell_type": "markdown",
   "id": "273068a6",
   "metadata": {},
   "source": [
    "## Предварительная обработка"
   ]
  },
  {
   "cell_type": "code",
   "execution_count": 4,
   "id": "53e68cd3",
   "metadata": {},
   "outputs": [
    {
     "data": {
      "text/plain": [
       "Temperature       0\n",
       "L                 0\n",
       "R                 0\n",
       "A_M               0\n",
       "Color             0\n",
       "Spectral_Class    0\n",
       "Type              0\n",
       "dtype: int64"
      ]
     },
     "execution_count": 4,
     "metadata": {},
     "output_type": "execute_result"
    }
   ],
   "source": [
    "stars.isnull().sum()"
   ]
  },
  {
   "cell_type": "code",
   "execution_count": 5,
   "id": "f10cd9cd",
   "metadata": {},
   "outputs": [],
   "source": [
    "from sklearn.preprocessing import OrdinalEncoder\n",
    "from sklearn.preprocessing import MinMaxScaler\n",
    "oe = OrdinalEncoder()\n",
    "stars[[\"Color\", \"Spectral_Class\"]] = oe.fit_transform(stars[[\"Color\", \"Spectral_Class\"]])\n",
    "mms = MinMaxScaler()\n",
    "stars[['Temperature','L','R','A_M','Color','Spectral_Class', 'Type']] = mms.fit_transform(\n",
    "    stars[['Temperature','L','R','A_M','Color','Spectral_Class', 'Type']])"
   ]
  },
  {
   "cell_type": "code",
   "execution_count": 6,
   "id": "324da369",
   "metadata": {},
   "outputs": [
    {
     "data": {
      "text/html": [
       "<div>\n",
       "<style scoped>\n",
       "    .dataframe tbody tr th:only-of-type {\n",
       "        vertical-align: middle;\n",
       "    }\n",
       "\n",
       "    .dataframe tbody tr th {\n",
       "        vertical-align: top;\n",
       "    }\n",
       "\n",
       "    .dataframe thead th {\n",
       "        text-align: right;\n",
       "    }\n",
       "</style>\n",
       "<table border=\"1\" class=\"dataframe\">\n",
       "  <thead>\n",
       "    <tr style=\"text-align: right;\">\n",
       "      <th></th>\n",
       "      <th>Temperature</th>\n",
       "      <th>L</th>\n",
       "      <th>R</th>\n",
       "      <th>A_M</th>\n",
       "      <th>Color</th>\n",
       "      <th>Spectral_Class</th>\n",
       "      <th>Type</th>\n",
       "    </tr>\n",
       "  </thead>\n",
       "  <tbody>\n",
       "    <tr>\n",
       "      <th>0</th>\n",
       "      <td>0.029663</td>\n",
       "      <td>2.731275e-09</td>\n",
       "      <td>0.000083</td>\n",
       "      <td>0.876798</td>\n",
       "      <td>0.5</td>\n",
       "      <td>0.833333</td>\n",
       "      <td>0.0</td>\n",
       "    </tr>\n",
       "    <tr>\n",
       "      <th>1</th>\n",
       "      <td>0.028980</td>\n",
       "      <td>4.944550e-10</td>\n",
       "      <td>0.000075</td>\n",
       "      <td>0.891807</td>\n",
       "      <td>0.5</td>\n",
       "      <td>0.833333</td>\n",
       "      <td>0.0</td>\n",
       "    </tr>\n",
       "    <tr>\n",
       "      <th>2</th>\n",
       "      <td>0.017367</td>\n",
       "      <td>2.590003e-10</td>\n",
       "      <td>0.000048</td>\n",
       "      <td>0.957473</td>\n",
       "      <td>0.5</td>\n",
       "      <td>0.833333</td>\n",
       "      <td>0.0</td>\n",
       "    </tr>\n",
       "    <tr>\n",
       "      <th>3</th>\n",
       "      <td>0.022622</td>\n",
       "      <td>1.412729e-10</td>\n",
       "      <td>0.000078</td>\n",
       "      <td>0.893371</td>\n",
       "      <td>0.5</td>\n",
       "      <td>0.833333</td>\n",
       "      <td>0.0</td>\n",
       "    </tr>\n",
       "    <tr>\n",
       "      <th>4</th>\n",
       "      <td>0.000000</td>\n",
       "      <td>6.828189e-11</td>\n",
       "      <td>0.000049</td>\n",
       "      <td>1.000000</td>\n",
       "      <td>0.5</td>\n",
       "      <td>0.833333</td>\n",
       "      <td>0.0</td>\n",
       "    </tr>\n",
       "  </tbody>\n",
       "</table>\n",
       "</div>"
      ],
      "text/plain": [
       "   Temperature             L         R       A_M  Color  Spectral_Class  Type\n",
       "0     0.029663  2.731275e-09  0.000083  0.876798    0.5        0.833333   0.0\n",
       "1     0.028980  4.944550e-10  0.000075  0.891807    0.5        0.833333   0.0\n",
       "2     0.017367  2.590003e-10  0.000048  0.957473    0.5        0.833333   0.0\n",
       "3     0.022622  1.412729e-10  0.000078  0.893371    0.5        0.833333   0.0\n",
       "4     0.000000  6.828189e-11  0.000049  1.000000    0.5        0.833333   0.0"
      ]
     },
     "execution_count": 6,
     "metadata": {},
     "output_type": "execute_result"
    }
   ],
   "source": [
    "stars.head()"
   ]
  },
  {
   "cell_type": "markdown",
   "id": "82fdf408",
   "metadata": {},
   "source": [
    "Набор данных не содержит пропусков. Произвели кодирование категориальных признаков и масштабирование данных."
   ]
  },
  {
   "cell_type": "code",
   "execution_count": 7,
   "id": "8c700762",
   "metadata": {},
   "outputs": [
    {
     "data": {
      "text/plain": [
       "<Axes: >"
      ]
     },
     "execution_count": 7,
     "metadata": {},
     "output_type": "execute_result"
    },
    {
     "data": {
      "image/png": "[encoded data removed]",
      "text/plain": [
       "<Figure size 800x400 with 2 Axes>"
      ]
     },
     "metadata": {},
     "output_type": "display_data"
    }
   ],
   "source": [
    "#Построим корреляционную матрицу\n",
    "fig, ax = plt.pyplot.subplots(figsize=(8,4))\n",
    "sns.heatmap(stars.corr(method='pearson'), ax=ax, annot=True, fmt='.2f')"
   ]
  },
  {
   "cell_type": "markdown",
   "id": "aa5d5a39",
   "metadata": {},
   "source": [
    "## Разделение выборки на обучающую и тестовую"
   ]
  },
  {
   "cell_type": "code",
   "execution_count": 8,
   "id": "f0d92a26",
   "metadata": {},
   "outputs": [],
   "source": [
    "from sklearn.model_selection import train_test_split\n",
    "x_train, x_test, y_train, y_test = train_test_split(\n",
    "    stars[[\"Temperature\", \"L\", \"R\", \"Color\", \"Spectral_Class\", \"Type\"]], stars[[\"A_M\"]], random_state=1)"
   ]
  },
  {
   "cell_type": "markdown",
   "id": "8bd9c56a",
   "metadata": {},
   "source": [
    "## Обучение моделей"
   ]
  },
  {
   "cell_type": "markdown",
   "id": "0a841656",
   "metadata": {},
   "source": [
    "Обучим модель линейной регрессии для вычисления значения абсолютной звездной величины"
   ]
  },
  {
   "cell_type": "code",
   "execution_count": 9,
   "id": "29009421",
   "metadata": {},
   "outputs": [],
   "source": [
    "import numpy as np\n",
    "from sklearn.linear_model import LinearRegression"
   ]
  },
  {
   "cell_type": "code",
   "execution_count": 10,
   "id": "4f981bb0",
   "metadata": {},
   "outputs": [
    {
     "name": "stdout",
     "output_type": "stream",
     "text": [
      "Коэффициенты: \n",
      " [[-0.08503761  0.01486253  0.08353396 -0.05274258 -0.13337955 -0.96742107]]\n"
     ]
    }
   ],
   "source": [
    "lreg = LinearRegression()\n",
    "lreg.fit(x_train, y_train)\n",
    "am_pred = lreg.predict(x_test)\n",
    "print(\"Коэффициенты: \\n\", lreg.coef_)"
   ]
  },
  {
   "cell_type": "code",
   "execution_count": 11,
   "id": "84a5b748",
   "metadata": {},
   "outputs": [
    {
     "data": {
      "text/plain": [
       "<matplotlib.collections.PathCollection at 0x7f06346c8e20>"
      ]
     },
     "execution_count": 11,
     "metadata": {},
     "output_type": "execute_result"
    },
    {
     "data": {
      "image/png": "[encoded data removed]",
      "text/plain": [
       "<Figure size 640x480 with 1 Axes>"
      ]
     },
     "metadata": {},
     "output_type": "display_data"
    }
   ],
   "source": [
    "plt.pyplot.scatter(x_test[\"Type\"], y_test, color=\"black\", linewidth=2)\n",
    "plt.pyplot.scatter(x_test[\"Type\"], am_pred, color=\"red\", linewidth=0.01)"
   ]
  },
  {
   "cell_type": "markdown",
   "id": "5ce0446d",
   "metadata": {},
   "source": [
    "Оценим качество модели с помощью метрик mean squared error и коэффициента детерминации "
   ]
  },
  {
   "cell_type": "code",
   "execution_count": 12,
   "id": "a6f771e9",
   "metadata": {},
   "outputs": [],
   "source": [
    "from sklearn.metrics import mean_squared_error, r2_score "
   ]
  },
  {
   "cell_type": "code",
   "execution_count": 13,
   "id": "d0f5914d",
   "metadata": {},
   "outputs": [
    {
     "name": "stdout",
     "output_type": "stream",
     "text": [
      "MSE: 0.0089\n",
      "R^2: 0.9153\n"
     ]
    }
   ],
   "source": [
    "# mean squared error\n",
    "print(\"MSE: %.4f\" % mean_squared_error(y_test, am_pred))\n",
    "# коэффициент детерминации: чем ближе к 1, тем лучше, приемлимо если >0.5\n",
    "print(\"R^2: %.4f\" % r2_score(y_test, am_pred))"
   ]
  },
  {
   "cell_type": "markdown",
   "id": "df3dcad0",
   "metadata": {},
   "source": [
    "Теперь используем метод опорных векторов"
   ]
  },
  {
   "cell_type": "code",
   "execution_count": 14,
   "id": "bb1fad88",
   "metadata": {},
   "outputs": [],
   "source": [
    "from sklearn.svm import SVR"
   ]
  },
  {
   "cell_type": "code",
   "execution_count": 15,
   "id": "0e03bd3e",
   "metadata": {},
   "outputs": [
    {
     "name": "stderr",
     "output_type": "stream",
     "text": [
      "/home/anna/notebooks/nb_env/lib/python3.10/site-packages/sklearn/utils/validation.py:1143: DataConversionWarning: A column-vector y was passed when a 1d array was expected. Please change the shape of y to (n_samples, ), for example using ravel().\n",
      "  y = column_or_1d(y, warn=True)\n"
     ]
    }
   ],
   "source": [
    "svr = SVR()\n",
    "svr.fit(x_train, y_train)\n",
    "am_pred = svr.predict(x_test)\n"
   ]
  },
  {
   "cell_type": "code",
   "execution_count": 16,
   "id": "48c475f6",
   "metadata": {},
   "outputs": [
    {
     "data": {
      "text/plain": [
       "<matplotlib.collections.PathCollection at 0x7f063474f280>"
      ]
     },
     "execution_count": 16,
     "metadata": {},
     "output_type": "execute_result"
    },
    {
     "data": {
      "image/png": "[encoded data removed]",
      "text/plain": [
       "<Figure size 500x300 with 1 Axes>"
      ]
     },
     "metadata": {},
     "output_type": "display_data"
    }
   ],
   "source": [
    "fig, ax = plt.pyplot.subplots(figsize=(5,3))\n",
    "plt.pyplot.scatter(x_test[\"Type\"], y_test, color=\"black\", linewidth=2)\n",
    "plt.pyplot.scatter(x_test[\"Type\"], am_pred, color=\"red\", linewidth=0.01)"
   ]
  },
  {
   "cell_type": "code",
   "execution_count": 17,
   "id": "f064bdda",
   "metadata": {},
   "outputs": [
    {
     "name": "stdout",
     "output_type": "stream",
     "text": [
      "MSE: 0.0060\n",
      "R^2: 0.9434\n"
     ]
    }
   ],
   "source": [
    "# mean squared error\n",
    "print(\"MSE: %.4f\" % mean_squared_error(y_test, am_pred))\n",
    "# коэффициент детерминации: чем ближе к 1, тем лучше, приемлимо если >0.5\n",
    "print(\"R^2: %.4f\" % r2_score(y_test, am_pred))"
   ]
  },
  {
   "cell_type": "markdown",
   "id": "f35bf6d1",
   "metadata": {},
   "source": [
    "Согласно этим оценкам, модель имеет более высокое качество, чем предыдущая.\n",
    "\n",
    "Перейдем к построению дерева решений.\n"
   ]
  },
  {
   "cell_type": "code",
   "execution_count": 18,
   "id": "e3aee760",
   "metadata": {},
   "outputs": [],
   "source": [
    "from sklearn.tree import DecisionTreeRegressor"
   ]
  },
  {
   "cell_type": "code",
   "execution_count": 19,
   "id": "a4471736",
   "metadata": {},
   "outputs": [
    {
     "name": "stdout",
     "output_type": "stream",
     "text": [
      "глубина = 3\n",
      "MSE: 0.0021\n",
      "R^2: 0.9800\n",
      "глубина = 5\n",
      "MSE: 0.0017\n",
      "R^2: 0.9834\n"
     ]
    }
   ],
   "source": [
    "tree1 = DecisionTreeRegressor(max_depth=3)\n",
    "tree2 = DecisionTreeRegressor(max_depth=5)\n",
    "tree1.fit(x_train, y_train)\n",
    "tree2.fit(x_train, y_train)\n",
    "\n",
    "am_pred1 = tree1.predict(x_test)\n",
    "am_pred2 = tree2.predict(x_test)\n",
    "\n",
    "print(\"глубина = 3\")\n",
    "# mean squared error\n",
    "print(\"MSE: %.4f\" % mean_squared_error(y_test, am_pred1))\n",
    "# коэффициент детерминации: чем ближе к 1, тем лучше, приемлимо если >0.5\n",
    "print(\"R^2: %.4f\" % r2_score(y_test, am_pred1))\n",
    "\n",
    "print(\"глубина = 5\")\n",
    "# mean squared error\n",
    "print(\"MSE: %.4f\" % mean_squared_error(y_test, am_pred2))\n",
    "# коэффициент детерминации: чем ближе к 1, тем лучше, приемлимо если >0.5\n",
    "print(\"R^2: %.4f\" % r2_score(y_test, am_pred2))\n"
   ]
  },
  {
   "cell_type": "code",
   "execution_count": 20,
   "id": "74ed0873",
   "metadata": {},
   "outputs": [
    {
     "data": {
      "text/plain": [
       "<matplotlib.collections.PathCollection at 0x7f062df0e500>"
      ]
     },
     "execution_count": 20,
     "metadata": {},
     "output_type": "execute_result"
    },
    {
     "data": {
      "image/png": "[encoded data removed]",
      "text/plain": [
       "<Figure size 500x300 with 1 Axes>"
      ]
     },
     "metadata": {},
     "output_type": "display_data"
    }
   ],
   "source": [
    "fig, ax = plt.pyplot.subplots(figsize=(5,3))\n",
    "plt.pyplot.scatter(x_test[\"Type\"], y_test, color=\"black\", linewidth=2)\n",
    "plt.pyplot.scatter(x_test[\"Type\"], am_pred1, color=\"red\", linewidth=0.01)"
   ]
  },
  {
   "cell_type": "code",
   "execution_count": 21,
   "id": "a2618a1e",
   "metadata": {},
   "outputs": [
    {
     "data": {
      "text/plain": [
       "<matplotlib.collections.PathCollection at 0x7f062dfa8fd0>"
      ]
     },
     "execution_count": 21,
     "metadata": {},
     "output_type": "execute_result"
    },
    {
     "data": {
      "image/png": "[encoded data removed]",
      "text/plain": [
       "<Figure size 500x300 with 1 Axes>"
      ]
     },
     "metadata": {},
     "output_type": "display_data"
    }
   ],
   "source": [
    "fig, ax = plt.pyplot.subplots(figsize=(5,3))\n",
    "plt.pyplot.scatter(x_test[\"Type\"], y_test, color=\"black\", linewidth=2)\n",
    "plt.pyplot.scatter(x_test[\"Type\"], am_pred2, color=\"green\", linewidth=0.01)"
   ]
  },
  {
   "cell_type": "markdown",
   "id": "ae9bfbb1",
   "metadata": {},
   "source": [
    "Наилучшие метрики имеет модель дерева решений с макс.глубиной = 5. Вид графика не позволяет сказать, приводит ли такая глубина к переобучению модели. \n",
    "Следующей по качеству является модель, использующая метод опорных векторов.\n"
   ]
  },
  {
   "cell_type": "markdown",
   "id": "91361399",
   "metadata": {},
   "source": [
    "## Визуализация дерева"
   ]
  },
  {
   "cell_type": "code",
   "execution_count": 22,
   "id": "9abb2480",
   "metadata": {},
   "outputs": [],
   "source": [
    "feature_names = list(stars)\n",
    "feature_names.remove('A_M')\n",
    "target_names = ['A_M']"
   ]
  },
  {
   "cell_type": "code",
   "execution_count": 23,
   "id": "8accfef8",
   "metadata": {},
   "outputs": [
    {
     "name": "stdout",
     "output_type": "stream",
     "text": [
      "['Temperature', 'L', 'R', 'Color', 'Spectral_Class', 'Type']\n"
     ]
    }
   ],
   "source": [
    "print(feature_names)"
   ]
  },
  {
   "cell_type": "code",
   "execution_count": 24,
   "id": "51b945ec",
   "metadata": {},
   "outputs": [],
   "source": [
    "from operator import itemgetter\n",
    "\n",
    "def draw_feature_importances(tree_model, X_dataset, figsize=(10,4)):\n",
    "    \"\"\"\n",
    "    Вывод важности признаков в виде графика\n",
    "    \"\"\"\n",
    "    # Сортировка значений важности признаков по убыванию\n",
    "    list_to_sort = list(zip(X_dataset.columns.values, tree_model.feature_importances_))\n",
    "    sorted_list = sorted(list_to_sort, key=itemgetter(1), reverse = True)\n",
    "    # Названия признаков\n",
    "    labels = [x for x,_ in sorted_list]\n",
    "    # Важности признаков\n",
    "    data = [x for _,x in sorted_list]\n",
    "    # Вывод графика\n",
    "    fig, ax = plt.pyplot.subplots(figsize=figsize)\n",
    "    ind = np.arange(len(labels))\n",
    "    plt.pyplot.bar(ind, data)\n",
    "    plt.pyplot.xticks(ind, labels, rotation='vertical')\n",
    "    # Вывод значений\n",
    "    for a,b in zip(ind, data):\n",
    "        plt.pyplot.text(a-0.05, b+0.01, str(round(b,3)))\n",
    "    plt.pyplot.show()\n",
    "    return labels, data"
   ]
  },
  {
   "cell_type": "code",
   "execution_count": 25,
   "id": "be5131fd",
   "metadata": {},
   "outputs": [
    {
     "data": {
      "image/png": "[encoded data removed]",
      "text/plain": [
       "<Figure size 1000x400 with 1 Axes>"
      ]
     },
     "metadata": {},
     "output_type": "display_data"
    }
   ],
   "source": [
    "st_labels, st_data = draw_feature_importances(tree1, pd.DataFrame(data=stars, columns=feature_names))"
   ]
  },
  {
   "cell_type": "code",
   "execution_count": 26,
   "id": "7412d829",
   "metadata": {},
   "outputs": [
    {
     "data": {
      "image/png": "[encoded data removed]",
      "text/plain": [
       "<Figure size 1000x400 with 1 Axes>"
      ]
     },
     "metadata": {},
     "output_type": "display_data"
    }
   ],
   "source": [
    "st_labels, st_data = draw_feature_importances(tree2, pd.DataFrame(data=stars, columns=feature_names))"
   ]
  },
  {
   "cell_type": "code",
   "execution_count": 27,
   "id": "a698de72",
   "metadata": {},
   "outputs": [],
   "source": [
    "from io import StringIO \n",
    "from IPython.display import Image\n",
    "import graphviz\n",
    "import pydotplus\n",
    "from sklearn.tree import export_graphviz"
   ]
  },
  {
   "cell_type": "code",
   "execution_count": 28,
   "id": "39237651",
   "metadata": {
    "scrolled": false
   },
   "outputs": [
    {
     "data": {
      "image/svg+xml": [
       "<?xml version=\"1.0\" encoding=\"UTF-8\" standalone=\"no\"?>\n",
       "<!DOCTYPE svg PUBLIC \"-//W3C//DTD SVG 1.1//EN\"\n",
       " \"http://www.w3.org/Graphics/SVG/1.1/DTD/svg11.dtd\">\n",
       "<!-- Generated by graphviz version 2.43.0 (0)\n",
       " -->\n",
       "<!-- Title: Tree Pages: 1 -->\n",
       "<svg width=\"1490pt\" height=\"373pt\"\n",
       " viewBox=\"0.00 0.00 1490.00 373.00\" xmlns=\"http://www.w3.org/2000/svg\" xmlns:xlink=\"http://www.w3.org/1999/xlink\">\n",
       "<g id=\"graph0\" class=\"graph\" transform=\"scale(1 1) rotate(0) translate(4 369)\">\n",
       "<title>Tree</title>\n",
       "<polygon fill=\"white\" stroke=\"transparent\" points=\"-4,4 -4,-369 1486,-369 1486,4 -4,4\"/>\n",
       "<!-- 0 -->\n",
       "<g id=\"node1\" class=\"node\">\n",
       "<title>0</title>\n",
       "<path fill=\"#f2bf9a\" stroke=\"black\" d=\"M815,-365C815,-365 665,-365 665,-365 659,-365 653,-359 653,-353 653,-353 653,-309 653,-309 653,-303 659,-297 665,-297 665,-297 815,-297 815,-297 821,-297 827,-303 827,-309 827,-309 827,-353 827,-353 827,-359 821,-365 815,-365\"/>\n",
       "<text text-anchor=\"start\" x=\"714\" y=\"-349.8\" font-family=\"Helvetica,sans-Serif\" font-size=\"14.00\">L ≤ 0.0</text>\n",
       "<text text-anchor=\"start\" x=\"661\" y=\"-334.8\" font-family=\"Helvetica,sans-Serif\" font-size=\"14.00\">squared_error = 0.109</text>\n",
       "<text text-anchor=\"start\" x=\"687\" y=\"-319.8\" font-family=\"Helvetica,sans-Serif\" font-size=\"14.00\">samples = 180</text>\n",
       "<text text-anchor=\"start\" x=\"694.5\" y=\"-304.8\" font-family=\"Helvetica,sans-Serif\" font-size=\"14.00\">value = 0.51</text>\n",
       "</g>\n",
       "<!-- 1 -->\n",
       "<g id=\"node2\" class=\"node\">\n",
       "<title>1</title>\n",
       "<path fill=\"#e99355\" stroke=\"black\" d=\"M674,-261C674,-261 524,-261 524,-261 518,-261 512,-255 512,-249 512,-249 512,-205 512,-205 512,-199 518,-193 524,-193 524,-193 674,-193 674,-193 680,-193 686,-199 686,-205 686,-205 686,-249 686,-249 686,-255 680,-261 674,-261\"/>\n",
       "<text text-anchor=\"start\" x=\"561\" y=\"-245.8\" font-family=\"Helvetica,sans-Serif\" font-size=\"14.00\">Type ≤ 0.1</text>\n",
       "<text text-anchor=\"start\" x=\"520\" y=\"-230.8\" font-family=\"Helvetica,sans-Serif\" font-size=\"14.00\">squared_error = 0.009</text>\n",
       "<text text-anchor=\"start\" x=\"550.5\" y=\"-215.8\" font-family=\"Helvetica,sans-Serif\" font-size=\"14.00\">samples = 94</text>\n",
       "<text text-anchor=\"start\" x=\"553.5\" y=\"-200.8\" font-family=\"Helvetica,sans-Serif\" font-size=\"14.00\">value = 0.81</text>\n",
       "</g>\n",
       "<!-- 0&#45;&gt;1 -->\n",
       "<g id=\"edge1\" class=\"edge\">\n",
       "<title>0&#45;&gt;1</title>\n",
       "<path fill=\"none\" stroke=\"black\" d=\"M694.22,-296.88C681.17,-287.44 666.82,-277.06 653.31,-267.29\"/>\n",
       "<polygon fill=\"black\" stroke=\"black\" points=\"655.19,-264.32 645.03,-261.3 651.08,-270 655.19,-264.32\"/>\n",
       "<text text-anchor=\"middle\" x=\"648.99\" y=\"-282.28\" font-family=\"Helvetica,sans-Serif\" font-size=\"14.00\">True</text>\n",
       "</g>\n",
       "<!-- 8 -->\n",
       "<g id=\"node9\" class=\"node\">\n",
       "<title>8</title>\n",
       "<path fill=\"#fcefe5\" stroke=\"black\" d=\"M957,-261C957,-261 807,-261 807,-261 801,-261 795,-255 795,-249 795,-249 795,-205 795,-205 795,-199 801,-193 807,-193 807,-193 957,-193 957,-193 963,-193 969,-199 969,-205 969,-205 969,-249 969,-249 969,-255 963,-261 957,-261\"/>\n",
       "<text text-anchor=\"start\" x=\"846\" y=\"-245.8\" font-family=\"Helvetica,sans-Serif\" font-size=\"14.00\">R ≤ 0.005</text>\n",
       "<text text-anchor=\"start\" x=\"803\" y=\"-230.8\" font-family=\"Helvetica,sans-Serif\" font-size=\"14.00\">squared_error = 0.012</text>\n",
       "<text text-anchor=\"start\" x=\"833.5\" y=\"-215.8\" font-family=\"Helvetica,sans-Serif\" font-size=\"14.00\">samples = 86</text>\n",
       "<text text-anchor=\"start\" x=\"832\" y=\"-200.8\" font-family=\"Helvetica,sans-Serif\" font-size=\"14.00\">value = 0.181</text>\n",
       "</g>\n",
       "<!-- 0&#45;&gt;8 -->\n",
       "<g id=\"edge8\" class=\"edge\">\n",
       "<title>0&#45;&gt;8</title>\n",
       "<path fill=\"none\" stroke=\"black\" d=\"M786.1,-296.88C799.25,-287.44 813.7,-277.06 827.3,-267.29\"/>\n",
       "<polygon fill=\"black\" stroke=\"black\" points=\"829.56,-269.98 835.64,-261.3 825.48,-264.29 829.56,-269.98\"/>\n",
       "<text text-anchor=\"middle\" x=\"831.6\" y=\"-282.27\" font-family=\"Helvetica,sans-Serif\" font-size=\"14.00\">False</text>\n",
       "</g>\n",
       "<!-- 2 -->\n",
       "<g id=\"node3\" class=\"node\">\n",
       "<title>2</title>\n",
       "<path fill=\"#e5823b\" stroke=\"black\" d=\"M345,-157C345,-157 195,-157 195,-157 189,-157 183,-151 183,-145 183,-145 183,-101 183,-101 183,-95 189,-89 195,-89 195,-89 345,-89 345,-89 351,-89 357,-95 357,-101 357,-101 357,-145 357,-145 357,-151 351,-157 345,-157\"/>\n",
       "<text text-anchor=\"start\" x=\"243\" y=\"-141.8\" font-family=\"Helvetica,sans-Serif\" font-size=\"14.00\">R ≤ 0.0</text>\n",
       "<text text-anchor=\"start\" x=\"191\" y=\"-126.8\" font-family=\"Helvetica,sans-Serif\" font-size=\"14.00\">squared_error = 0.001</text>\n",
       "<text text-anchor=\"start\" x=\"221.5\" y=\"-111.8\" font-family=\"Helvetica,sans-Serif\" font-size=\"14.00\">samples = 31</text>\n",
       "<text text-anchor=\"start\" x=\"220\" y=\"-96.8\" font-family=\"Helvetica,sans-Serif\" font-size=\"14.00\">value = 0.923</text>\n",
       "</g>\n",
       "<!-- 1&#45;&gt;2 -->\n",
       "<g id=\"edge2\" class=\"edge\">\n",
       "<title>1&#45;&gt;2</title>\n",
       "<path fill=\"none\" stroke=\"black\" d=\"M511.7,-198.93C467.09,-185.1 412.68,-168.24 366.8,-154.01\"/>\n",
       "<polygon fill=\"black\" stroke=\"black\" points=\"367.73,-150.63 357.14,-151.02 365.65,-157.32 367.73,-150.63\"/>\n",
       "</g>\n",
       "<!-- 5 -->\n",
       "<g id=\"node6\" class=\"node\">\n",
       "<title>5</title>\n",
       "<path fill=\"#ea9b61\" stroke=\"black\" d=\"M674,-157C674,-157 524,-157 524,-157 518,-157 512,-151 512,-145 512,-145 512,-101 512,-101 512,-95 518,-89 524,-89 524,-89 674,-89 674,-89 680,-89 686,-95 686,-101 686,-101 686,-145 686,-145 686,-151 680,-157 674,-157\"/>\n",
       "<text text-anchor=\"start\" x=\"561\" y=\"-141.8\" font-family=\"Helvetica,sans-Serif\" font-size=\"14.00\">Type ≤ 0.5</text>\n",
       "<text text-anchor=\"start\" x=\"520\" y=\"-126.8\" font-family=\"Helvetica,sans-Serif\" font-size=\"14.00\">squared_error = 0.003</text>\n",
       "<text text-anchor=\"start\" x=\"550.5\" y=\"-111.8\" font-family=\"Helvetica,sans-Serif\" font-size=\"14.00\">samples = 63</text>\n",
       "<text text-anchor=\"start\" x=\"549\" y=\"-96.8\" font-family=\"Helvetica,sans-Serif\" font-size=\"14.00\">value = 0.755</text>\n",
       "</g>\n",
       "<!-- 1&#45;&gt;5 -->\n",
       "<g id=\"edge5\" class=\"edge\">\n",
       "<title>1&#45;&gt;5</title>\n",
       "<path fill=\"none\" stroke=\"black\" d=\"M599,-192.88C599,-184.78 599,-175.98 599,-167.47\"/>\n",
       "<polygon fill=\"black\" stroke=\"black\" points=\"602.5,-167.3 599,-157.3 595.5,-167.3 602.5,-167.3\"/>\n",
       "</g>\n",
       "<!-- 3 -->\n",
       "<g id=\"node4\" class=\"node\">\n",
       "<title>3</title>\n",
       "<path fill=\"#e58139\" stroke=\"black\" d=\"M162,-53C162,-53 12,-53 12,-53 6,-53 0,-47 0,-41 0,-41 0,-12 0,-12 0,-6 6,0 12,0 12,0 162,0 162,0 168,0 174,-6 174,-12 174,-12 174,-41 174,-41 174,-47 168,-53 162,-53\"/>\n",
       "<text text-anchor=\"start\" x=\"8\" y=\"-37.8\" font-family=\"Helvetica,sans-Serif\" font-size=\"14.00\">squared_error = 0.001</text>\n",
       "<text text-anchor=\"start\" x=\"38.5\" y=\"-22.8\" font-family=\"Helvetica,sans-Serif\" font-size=\"14.00\">samples = 24</text>\n",
       "<text text-anchor=\"start\" x=\"41.5\" y=\"-7.8\" font-family=\"Helvetica,sans-Serif\" font-size=\"14.00\">value = 0.93</text>\n",
       "</g>\n",
       "<!-- 2&#45;&gt;3 -->\n",
       "<g id=\"edge3\" class=\"edge\">\n",
       "<title>2&#45;&gt;3</title>\n",
       "<path fill=\"none\" stroke=\"black\" d=\"M206,-88.95C186.33,-78.79 164.8,-67.67 145.52,-57.72\"/>\n",
       "<polygon fill=\"black\" stroke=\"black\" points=\"147.04,-54.57 136.55,-53.09 143.83,-60.78 147.04,-54.57\"/>\n",
       "</g>\n",
       "<!-- 4 -->\n",
       "<g id=\"node5\" class=\"node\">\n",
       "<title>4</title>\n",
       "<path fill=\"#e68641\" stroke=\"black\" d=\"M336,-53C336,-53 204,-53 204,-53 198,-53 192,-47 192,-41 192,-41 192,-12 192,-12 192,-6 198,0 204,0 204,0 336,0 336,0 342,0 348,-6 348,-12 348,-12 348,-41 348,-41 348,-47 342,-53 336,-53\"/>\n",
       "<text text-anchor=\"start\" x=\"200\" y=\"-37.8\" font-family=\"Helvetica,sans-Serif\" font-size=\"14.00\">squared_error = 0.0</text>\n",
       "<text text-anchor=\"start\" x=\"226\" y=\"-22.8\" font-family=\"Helvetica,sans-Serif\" font-size=\"14.00\">samples = 7</text>\n",
       "<text text-anchor=\"start\" x=\"220\" y=\"-7.8\" font-family=\"Helvetica,sans-Serif\" font-size=\"14.00\">value = 0.895</text>\n",
       "</g>\n",
       "<!-- 2&#45;&gt;4 -->\n",
       "<g id=\"edge4\" class=\"edge\">\n",
       "<title>2&#45;&gt;4</title>\n",
       "<path fill=\"none\" stroke=\"black\" d=\"M270,-88.95C270,-80.72 270,-71.85 270,-63.48\"/>\n",
       "<polygon fill=\"black\" stroke=\"black\" points=\"273.5,-63.24 270,-53.24 266.5,-63.24 273.5,-63.24\"/>\n",
       "</g>\n",
       "<!-- 6 -->\n",
       "<g id=\"node7\" class=\"node\">\n",
       "<title>6</title>\n",
       "<path fill=\"#ea9a60\" stroke=\"black\" d=\"M528,-53C528,-53 378,-53 378,-53 372,-53 366,-47 366,-41 366,-41 366,-12 366,-12 366,-6 372,0 378,0 378,0 528,0 528,0 534,0 540,-6 540,-12 540,-12 540,-41 540,-41 540,-47 534,-53 528,-53\"/>\n",
       "<text text-anchor=\"start\" x=\"374\" y=\"-37.8\" font-family=\"Helvetica,sans-Serif\" font-size=\"14.00\">squared_error = 0.002</text>\n",
       "<text text-anchor=\"start\" x=\"404.5\" y=\"-22.8\" font-family=\"Helvetica,sans-Serif\" font-size=\"14.00\">samples = 61</text>\n",
       "<text text-anchor=\"start\" x=\"403\" y=\"-7.8\" font-family=\"Helvetica,sans-Serif\" font-size=\"14.00\">value = 0.762</text>\n",
       "</g>\n",
       "<!-- 5&#45;&gt;6 -->\n",
       "<g id=\"edge6\" class=\"edge\">\n",
       "<title>5&#45;&gt;6</title>\n",
       "<path fill=\"none\" stroke=\"black\" d=\"M547.94,-88.95C532.81,-79.16 516.31,-68.48 501.36,-58.8\"/>\n",
       "<polygon fill=\"black\" stroke=\"black\" points=\"503.06,-55.73 492.76,-53.24 499.26,-61.61 503.06,-55.73\"/>\n",
       "</g>\n",
       "<!-- 7 -->\n",
       "<g id=\"node8\" class=\"node\">\n",
       "<title>7</title>\n",
       "<path fill=\"#f1ba92\" stroke=\"black\" d=\"M720,-53C720,-53 570,-53 570,-53 564,-53 558,-47 558,-41 558,-41 558,-12 558,-12 558,-6 564,0 570,0 570,0 720,0 720,0 726,0 732,-6 732,-12 732,-12 732,-41 732,-41 732,-47 726,-53 720,-53\"/>\n",
       "<text text-anchor=\"start\" x=\"566\" y=\"-37.8\" font-family=\"Helvetica,sans-Serif\" font-size=\"14.00\">squared_error = 0.001</text>\n",
       "<text text-anchor=\"start\" x=\"601\" y=\"-22.8\" font-family=\"Helvetica,sans-Serif\" font-size=\"14.00\">samples = 2</text>\n",
       "<text text-anchor=\"start\" x=\"595\" y=\"-7.8\" font-family=\"Helvetica,sans-Serif\" font-size=\"14.00\">value = 0.543</text>\n",
       "</g>\n",
       "<!-- 5&#45;&gt;7 -->\n",
       "<g id=\"edge7\" class=\"edge\">\n",
       "<title>5&#45;&gt;7</title>\n",
       "<path fill=\"none\" stroke=\"black\" d=\"M615.09,-88.95C619.27,-80.35 623.8,-71.06 628.03,-62.37\"/>\n",
       "<polygon fill=\"black\" stroke=\"black\" points=\"631.24,-63.76 632.47,-53.24 624.95,-60.7 631.24,-63.76\"/>\n",
       "</g>\n",
       "<!-- 9 -->\n",
       "<g id=\"node10\" class=\"node\">\n",
       "<title>9</title>\n",
       "<path fill=\"#f7d9c4\" stroke=\"black\" d=\"M957,-157C957,-157 807,-157 807,-157 801,-157 795,-151 795,-145 795,-145 795,-101 795,-101 795,-95 801,-89 807,-89 807,-89 957,-89 957,-89 963,-89 969,-95 969,-101 969,-101 969,-145 969,-145 969,-151 963,-157 957,-157\"/>\n",
       "<text text-anchor=\"start\" x=\"847\" y=\"-141.8\" font-family=\"Helvetica,sans-Serif\" font-size=\"14.00\">L ≤ 0.001</text>\n",
       "<text text-anchor=\"start\" x=\"803\" y=\"-126.8\" font-family=\"Helvetica,sans-Serif\" font-size=\"14.00\">squared_error = 0.005</text>\n",
       "<text text-anchor=\"start\" x=\"833.5\" y=\"-111.8\" font-family=\"Helvetica,sans-Serif\" font-size=\"14.00\">samples = 23</text>\n",
       "<text text-anchor=\"start\" x=\"832\" y=\"-96.8\" font-family=\"Helvetica,sans-Serif\" font-size=\"14.00\">value = 0.327</text>\n",
       "</g>\n",
       "<!-- 8&#45;&gt;9 -->\n",
       "<g id=\"edge9\" class=\"edge\">\n",
       "<title>8&#45;&gt;9</title>\n",
       "<path fill=\"none\" stroke=\"black\" d=\"M882,-192.88C882,-184.78 882,-175.98 882,-167.47\"/>\n",
       "<polygon fill=\"black\" stroke=\"black\" points=\"885.5,-167.3 882,-157.3 878.5,-167.3 885.5,-167.3\"/>\n",
       "</g>\n",
       "<!-- 12 -->\n",
       "<g id=\"node13\" class=\"node\">\n",
       "<title>12</title>\n",
       "<path fill=\"#fdf6f1\" stroke=\"black\" d=\"M1287,-157C1287,-157 1137,-157 1137,-157 1131,-157 1125,-151 1125,-145 1125,-145 1125,-101 1125,-101 1125,-95 1131,-89 1137,-89 1137,-89 1287,-89 1287,-89 1293,-89 1299,-95 1299,-101 1299,-101 1299,-145 1299,-145 1299,-151 1293,-157 1287,-157\"/>\n",
       "<text text-anchor=\"start\" x=\"1180.5\" y=\"-141.8\" font-family=\"Helvetica,sans-Serif\" font-size=\"14.00\">R ≤ 0.45</text>\n",
       "<text text-anchor=\"start\" x=\"1133\" y=\"-126.8\" font-family=\"Helvetica,sans-Serif\" font-size=\"14.00\">squared_error = 0.004</text>\n",
       "<text text-anchor=\"start\" x=\"1163.5\" y=\"-111.8\" font-family=\"Helvetica,sans-Serif\" font-size=\"14.00\">samples = 63</text>\n",
       "<text text-anchor=\"start\" x=\"1162\" y=\"-96.8\" font-family=\"Helvetica,sans-Serif\" font-size=\"14.00\">value = 0.129</text>\n",
       "</g>\n",
       "<!-- 8&#45;&gt;12 -->\n",
       "<g id=\"edge12\" class=\"edge\">\n",
       "<title>8&#45;&gt;12</title>\n",
       "<path fill=\"none\" stroke=\"black\" d=\"M969.14,-199.07C1014.06,-185.18 1068.98,-168.21 1115.22,-153.91\"/>\n",
       "<polygon fill=\"black\" stroke=\"black\" points=\"1116.43,-157.2 1124.95,-150.91 1114.36,-150.52 1116.43,-157.2\"/>\n",
       "</g>\n",
       "<!-- 10 -->\n",
       "<g id=\"node11\" class=\"node\">\n",
       "<title>10</title>\n",
       "<path fill=\"#f5cdb1\" stroke=\"black\" d=\"M912,-53C912,-53 762,-53 762,-53 756,-53 750,-47 750,-41 750,-41 750,-12 750,-12 750,-6 756,0 762,0 762,0 912,0 912,0 918,0 924,-6 924,-12 924,-12 924,-41 924,-41 924,-47 918,-53 912,-53\"/>\n",
       "<text text-anchor=\"start\" x=\"758\" y=\"-37.8\" font-family=\"Helvetica,sans-Serif\" font-size=\"14.00\">squared_error = 0.001</text>\n",
       "<text text-anchor=\"start\" x=\"793\" y=\"-22.8\" font-family=\"Helvetica,sans-Serif\" font-size=\"14.00\">samples = 9</text>\n",
       "<text text-anchor=\"start\" x=\"787\" y=\"-7.8\" font-family=\"Helvetica,sans-Serif\" font-size=\"14.00\">value = 0.409</text>\n",
       "</g>\n",
       "<!-- 9&#45;&gt;10 -->\n",
       "<g id=\"edge10\" class=\"edge\">\n",
       "<title>9&#45;&gt;10</title>\n",
       "<path fill=\"none\" stroke=\"black\" d=\"M866.26,-88.95C862.17,-80.35 857.74,-71.06 853.6,-62.37\"/>\n",
       "<polygon fill=\"black\" stroke=\"black\" points=\"856.71,-60.76 849.26,-53.24 850.39,-63.77 856.71,-60.76\"/>\n",
       "</g>\n",
       "<!-- 11 -->\n",
       "<g id=\"node12\" class=\"node\">\n",
       "<title>11</title>\n",
       "<path fill=\"#f9e1d0\" stroke=\"black\" d=\"M1104,-53C1104,-53 954,-53 954,-53 948,-53 942,-47 942,-41 942,-41 942,-12 942,-12 942,-6 948,0 954,0 954,0 1104,0 1104,0 1110,0 1116,-6 1116,-12 1116,-12 1116,-41 1116,-41 1116,-47 1110,-53 1104,-53\"/>\n",
       "<text text-anchor=\"start\" x=\"950\" y=\"-37.8\" font-family=\"Helvetica,sans-Serif\" font-size=\"14.00\">squared_error = 0.001</text>\n",
       "<text text-anchor=\"start\" x=\"980.5\" y=\"-22.8\" font-family=\"Helvetica,sans-Serif\" font-size=\"14.00\">samples = 14</text>\n",
       "<text text-anchor=\"start\" x=\"979\" y=\"-7.8\" font-family=\"Helvetica,sans-Serif\" font-size=\"14.00\">value = 0.273</text>\n",
       "</g>\n",
       "<!-- 9&#45;&gt;11 -->\n",
       "<g id=\"edge11\" class=\"edge\">\n",
       "<title>9&#45;&gt;11</title>\n",
       "<path fill=\"none\" stroke=\"black\" d=\"M933.41,-88.95C948.64,-79.16 965.26,-68.48 980.31,-58.8\"/>\n",
       "<polygon fill=\"black\" stroke=\"black\" points=\"982.45,-61.59 988.97,-53.24 978.66,-55.7 982.45,-61.59\"/>\n",
       "</g>\n",
       "<!-- 13 -->\n",
       "<g id=\"node14\" class=\"node\">\n",
       "<title>13</title>\n",
       "<path fill=\"#fcf0e7\" stroke=\"black\" d=\"M1278,-53C1278,-53 1146,-53 1146,-53 1140,-53 1134,-47 1134,-41 1134,-41 1134,-12 1134,-12 1134,-6 1140,0 1146,0 1146,0 1278,0 1278,0 1284,0 1290,-6 1290,-12 1290,-12 1290,-41 1290,-41 1290,-47 1284,-53 1278,-53\"/>\n",
       "<text text-anchor=\"start\" x=\"1142\" y=\"-37.8\" font-family=\"Helvetica,sans-Serif\" font-size=\"14.00\">squared_error = 0.0</text>\n",
       "<text text-anchor=\"start\" x=\"1163.5\" y=\"-22.8\" font-family=\"Helvetica,sans-Serif\" font-size=\"14.00\">samples = 36</text>\n",
       "<text text-anchor=\"start\" x=\"1162\" y=\"-7.8\" font-family=\"Helvetica,sans-Serif\" font-size=\"14.00\">value = 0.173</text>\n",
       "</g>\n",
       "<!-- 12&#45;&gt;13 -->\n",
       "<g id=\"edge13\" class=\"edge\">\n",
       "<title>12&#45;&gt;13</title>\n",
       "<path fill=\"none\" stroke=\"black\" d=\"M1212,-88.95C1212,-80.72 1212,-71.85 1212,-63.48\"/>\n",
       "<polygon fill=\"black\" stroke=\"black\" points=\"1215.5,-63.24 1212,-53.24 1208.5,-63.24 1215.5,-63.24\"/>\n",
       "</g>\n",
       "<!-- 14 -->\n",
       "<g id=\"node15\" class=\"node\">\n",
       "<title>14</title>\n",
       "<path fill=\"#ffffff\" stroke=\"black\" d=\"M1470,-53C1470,-53 1320,-53 1320,-53 1314,-53 1308,-47 1308,-41 1308,-41 1308,-12 1308,-12 1308,-6 1314,0 1320,0 1320,0 1470,0 1470,0 1476,0 1482,-6 1482,-12 1482,-12 1482,-41 1482,-41 1482,-47 1476,-53 1470,-53\"/>\n",
       "<text text-anchor=\"start\" x=\"1316\" y=\"-37.8\" font-family=\"Helvetica,sans-Serif\" font-size=\"14.00\">squared_error = 0.002</text>\n",
       "<text text-anchor=\"start\" x=\"1346.5\" y=\"-22.8\" font-family=\"Helvetica,sans-Serif\" font-size=\"14.00\">samples = 27</text>\n",
       "<text text-anchor=\"start\" x=\"1345\" y=\"-7.8\" font-family=\"Helvetica,sans-Serif\" font-size=\"14.00\">value = 0.069</text>\n",
       "</g>\n",
       "<!-- 12&#45;&gt;14 -->\n",
       "<g id=\"edge14\" class=\"edge\">\n",
       "<title>12&#45;&gt;14</title>\n",
       "<path fill=\"none\" stroke=\"black\" d=\"M1276,-88.95C1295.67,-78.79 1317.2,-67.67 1336.48,-57.72\"/>\n",
       "<polygon fill=\"black\" stroke=\"black\" points=\"1338.17,-60.78 1345.45,-53.09 1334.96,-54.57 1338.17,-60.78\"/>\n",
       "</g>\n",
       "</g>\n",
       "</svg>\n"
      ],
      "text/plain": [
       "<graphviz.sources.Source at 0x7f0639372ec0>"
      ]
     },
     "execution_count": 28,
     "metadata": {},
     "output_type": "execute_result"
    }
   ],
   "source": [
    "dot_data = export_graphviz(tree1, out_file=None, \n",
    "                           feature_names=feature_names, \n",
    "                           class_names=target_names, \n",
    "                           filled=True, rounded=True, special_characters=True)  \n",
    "graph = graphviz.Source(dot_data)  \n",
    "graph"
   ]
  },
  {
   "cell_type": "code",
   "execution_count": null,
   "id": "dd8a0f8e",
   "metadata": {},
   "outputs": [],
   "source": []
  },
  {
   "cell_type": "code",
   "execution_count": null,
   "id": "e154b09e",
   "metadata": {},
   "outputs": [],
   "source": []
  }
 ],
 "metadata": {
  "kernelspec": {
   "display_name": "Python 3 (ipykernel)",
   "language": "python",
   "name": "python3"
  },
  "language_info": {
   "codemirror_mode": {
    "name": "ipython",
    "version": 3
   },
   "file_extension": ".py",
   "mimetype": "text/x-python",
   "name": "python",
   "nbconvert_exporter": "python",
   "pygments_lexer": "ipython3",
   "version": "3.10.6"
  }
 },
 "nbformat": 4,
 "nbformat_minor": 5
}
