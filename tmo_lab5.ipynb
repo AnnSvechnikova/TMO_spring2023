{
 "cells": [
  {
   "cell_type": "code",
   "execution_count": 1,
   "id": "9f528b0b",
   "metadata": {},
   "outputs": [],
   "source": [
    "import pandas as pd\n",
    "import numpy as np\n",
    "import matplotlib.pyplot as plt\n",
    "from typing import Dict\n",
    "from sklearn.preprocessing import LabelEncoder\n",
    "from sklearn.tree import DecisionTreeClassifier\n",
    "from sklearn.linear_model import LogisticRegression\n",
    "from sklearn.svm import SVC\n",
    "from sklearn.ensemble import BaggingClassifier, GradientBoostingClassifier, RandomForestRegressor\n",
    "from sklearn.metrics import accuracy_score, mean_absolute_error\n",
    "\n",
    "# скроем предупреждения о возможных ошибках для лучшей читаемости\n",
    "import warnings\n",
    "warnings.filterwarnings('ignore')\n"
   ]
  },
  {
   "cell_type": "markdown",
   "id": "b17bd586",
   "metadata": {},
   "source": [
    "# Ансамбли моделей машинного обучения."
   ]
  },
  {
   "cell_type": "markdown",
   "id": "d97df55c",
   "metadata": {},
   "source": [
    "Возьмем набор данных из предыдущей работы, проведем кодирование категориальных признаков и масштабирование данных и разделим данные на обучающую и тестовую выборки.\n",
    "\n",
    "Загрузили датасет, содержащий данные НАСА о звездах. Датасет содержит следующие столбцы:\n",
    "* Temperature - температура в Кельвинах\n",
    "* L - относительная яркость\n",
    "* R - относительный радиус\n",
    "* A_M - абсолютная звездная величина\n",
    "* Color - цвет\n",
    "* Spectral_Class - спектральный класс\n",
    "* Type - тип"
   ]
  },
  {
   "cell_type": "code",
   "execution_count": 2,
   "id": "17c20e7f",
   "metadata": {},
   "outputs": [],
   "source": [
    "stars = pd.read_csv(\"star-type-classification/Stars.csv\")\n",
    "stars.head()\n",
    "def accuracy_score_for_classes(y_true: np.ndarray,  y_pred: np.ndarray) -> Dict[int, float]:\n",
    "    \"\"\"\n",
    "    Вычисление метрики accuracy для каждого класса\n",
    "    y_true - истинные значения классов\n",
    "    y_pred - предсказанные значения классов\n",
    "    Возвращает словарь: ключ - метка класса, \n",
    "    значение - Accuracy для данного класса\n",
    "    \"\"\"\n",
    "    # Для удобства фильтрации сформируем Pandas DataFrame \n",
    "    df = y_true.copy()\n",
    "    df.rename(columns={'Type':'t'}, inplace=True)\n",
    "    df.insert(loc=0, column='p', value=y_pred)\n",
    "    # Метки классов\n",
    "    classes = np.unique(y_true)\n",
    "    # Результирующий словарь\n",
    "    res = dict()\n",
    "    # Перебор меток классов\n",
    "    for c in classes:\n",
    "        # отфильтруем данные, которые соответствуют \n",
    "        # текущей метке класса в истинных значениях\n",
    "        temp_data_flt = df[df['t']==c]\n",
    "        # расчет accuracy для заданной метки класса\n",
    "        temp_acc = accuracy_score(\n",
    "            temp_data_flt['t'].values, \n",
    "            temp_data_flt['p'].values)\n",
    "        # сохранение результата в словарь\n",
    "        res[c] = temp_acc\n",
    "    return res\n",
    "\n",
    "\n",
    "def print_metric(y_true: np.ndarray, y_pred: np.ndarray):\n",
    "    print (accuracy_score(y_true, y_pred))\n",
    "    \"\"\"\n",
    "    Вывод метрики accuracy для каждого класса\n",
    "    \"\"\"\n",
    "    accs = accuracy_score_for_classes(y_true, y_pred)\n",
    "    if len(accs)>0:\n",
    "        print('Метка \\t Accuracy')\n",
    "    for i in accs:\n",
    "        print('{} \\t {}'.format(i, accs[i]))"
   ]
  },
  {
   "cell_type": "code",
   "execution_count": 3,
   "id": "347e1fe0",
   "metadata": {},
   "outputs": [],
   "source": [
    "from sklearn.preprocessing import OrdinalEncoder\n",
    "from sklearn.preprocessing import MinMaxScaler\n",
    "from sklearn.model_selection import train_test_split\n",
    "oe = OrdinalEncoder()\n",
    "stars[[\"Color\", \"Spectral_Class\"]] = oe.fit_transform(stars[[\"Color\", \"Spectral_Class\"]])\n",
    "mms = MinMaxScaler()\n",
    "stars[['Temperature','L','R','A_M','Color','Spectral_Class']] = mms.fit_transform(\n",
    "    stars[['Temperature','L','R','A_M','Color','Spectral_Class']])\n",
    "s_feat = stars[[\"Temperature\", \"L\", \"R\", \"Color\", \"Spectral_Class\", \"A_M\"]]\n",
    "s_targ = stars[[\"Type\"]]\n",
    "\n",
    "x_train, x_test, y_train, y_test = train_test_split(s_feat, s_targ, random_state=1)\n"
   ]
  },
  {
   "cell_type": "markdown",
   "id": "23e7f50c",
   "metadata": {},
   "source": [
    "## Обучение моделей"
   ]
  },
  {
   "cell_type": "markdown",
   "id": "ed4025b0",
   "metadata": {},
   "source": [
    "Бэггинг для задачи классификации"
   ]
  },
  {
   "cell_type": "code",
   "execution_count": 4,
   "id": "d2812eaa",
   "metadata": {},
   "outputs": [],
   "source": [
    "bc1 = BaggingClassifier(n_estimators=5, oob_score=True, random_state=10)\n",
    "bc1.fit(x_train, y_train)\n",
    "#bc1.predict(x_test)\n",
    "print_metric(y_test, bc1.predict(x_test))"
   ]
  },
  {
   "cell_type": "code",
   "execution_count": 5,
   "id": "0e6d21e5",
   "metadata": {},
   "outputs": [],
   "source": [
    "print_metric(y_test, bc1.estimators_[0].predict(x_test))"
   ]
  },
  {
   "cell_type": "code",
   "execution_count": 6,
   "id": "44f4b005",
   "metadata": {},
   "outputs": [],
   "source": [
    "print_metric(y_test, bc1.estimators_[1].predict(x_test))"
   ]
  },
  {
   "cell_type": "code",
   "execution_count": 7,
   "id": "04c7b750",
   "metadata": {},
   "outputs": [],
   "source": [
    "import graphviz\n",
    "import pydotplus\n",
    "from IPython.display import Image\n",
    "from io import StringIO \n",
    "from sklearn.tree import export_graphviz\n",
    "feature_names = list(x_train)\n",
    "target_names = list(y_train)\n",
    "\n",
    "\n",
    "# Визуализация дерева\n",
    "def get_png_tree(tree_model_param, feature_names_param):\n",
    "    dot_data = StringIO()\n",
    "    export_graphviz(tree_model_param, out_file=dot_data, feature_names=feature_names_param,\n",
    "                    filled=True, rounded=True, special_characters=True)\n",
    "    graph = pydotplus.graph_from_dot_data(dot_data.getvalue())\n",
    "    return graph.create_png()\n",
    "\n",
    "\n",
    "\n",
    "def show_tree(tree, features, target):\n",
    "    dot_data = export_graphviz(tree, out_file=None, \n",
    "                           feature_names=features, \n",
    "                           class_names=target, \n",
    "                           filled=True, rounded=True, special_characters=True)  \n",
    "    graph = graphviz.Source(dot_data)  \n",
    "    graph"
   ]
  },
  {
   "cell_type": "code",
   "execution_count": 8,
   "id": "2a2e0e03",
   "metadata": {},
   "outputs": [],
   "source": [
    "Image(get_png_tree(bc1.estimators_[0], feature_names), width='80%')"
   ]
  },
  {
   "cell_type": "code",
   "execution_count": 9,
   "id": "22eef846",
   "metadata": {},
   "outputs": [],
   "source": [
    "Image(get_png_tree(bc1.estimators_[1], feature_names), width='80%')"
   ]
  },
  {
   "cell_type": "markdown",
   "id": "a64c30d9",
   "metadata": {},
   "source": [
    "Видно, что ансамбль состоит из различных моделей."
   ]
  },
  {
   "cell_type": "markdown",
   "id": "540fcc65",
   "metadata": {},
   "source": [
    "Градиентный бустинг:"
   ]
  },
  {
   "cell_type": "code",
   "execution_count": 10,
   "id": "7ab659f4",
   "metadata": {},
   "outputs": [],
   "source": [
    "gbc = GradientBoostingClassifier(n_estimators=5)\n",
    "gbc.fit(x_train, y_train)\n",
    "gbc.score(x_test, y_test)"
   ]
  },
  {
   "cell_type": "code",
   "execution_count": 11,
   "id": "db30f70b",
   "metadata": {},
   "outputs": [],
   "source": [
    "print_metric(y_test, gbc.predict(x_test))"
   ]
  },
  {
   "cell_type": "markdown",
   "id": "14bcaedf",
   "metadata": {},
   "source": [
    "Эта модель менее точна, чем предыдущая."
   ]
  },
  {
   "cell_type": "markdown",
   "id": "1d88c88a",
   "metadata": {},
   "source": [
    "Стекинг"
   ]
  },
  {
   "cell_type": "code",
   "execution_count": 12,
   "id": "02d3ebe0",
   "metadata": {},
   "outputs": [],
   "source": [
    "from heamy.estimator import Regressor, Classifier\n",
    "from heamy.pipeline import ModelsPipeline\n",
    "from heamy.dataset import Dataset"
   ]
  },
  {
   "cell_type": "code",
   "execution_count": 13,
   "id": "b8edff13",
   "metadata": {},
   "outputs": [],
   "source": [
    "dataset = Dataset(x_train, y_train, x_test)\n",
    "# модели первого уровня\n",
    "model_tree = Regressor(dataset=dataset, estimator=DecisionTreeRegressor, name='tree')\n",
    "model_lr = Regressor(dataset=dataset, estimator=LinearRegression,name='lr')\n",
    "model_rf = Regressor(dataset=dataset, estimator=RandomForestRegressor, parameters={'n_estimators': 5},name='rf')"
   ]
  },
  {
   "cell_type": "code",
   "execution_count": null,
   "id": "ab78eb3d",
   "metadata": {},
   "outputs": [],
   "source": [
    "#Первый уровень - две модели: дерево и линейная регрессия\n",
    "# Второй уровень: линейная регрессия\n",
    "\n",
    "pipeline = ModelsPipeline(model_tree, model_lr)\n",
    "stack_ds = pipeline.stack(k=10, seed=1)\n",
    "# модель второго уровня\n",
    "stacker = Regressor(dataset=stack_ds, estimator=LinearRegression)\n",
    "results = stacker.validate(k=10,scorer=mean_absolute_error)\n"
   ]
  },
  {
   "cell_type": "code",
   "execution_count": null,
   "id": "783c2a44",
   "metadata": {},
   "outputs": [],
   "source": [
    "# Первый уровень - две модели: дерево и линейная регрессия\n",
    "# Второй уровень: случайный лес\n",
    "\n",
    "stacker = Regressor(dataset=stack_ds, estimator=RandomForestRegressor)\n",
    "results = stacker.validate(k=10,scorer=mean_absolute_error)"
   ]
  },
  {
   "cell_type": "code",
   "execution_count": null,
   "id": "d6a76853",
   "metadata": {},
   "outputs": [],
   "source": [
    " #Первый уровень - три модели: дерево, линейная регрессия и случайный лес\n",
    "# Второй уровень: линейная регрессия\n",
    "pipeline = ModelsPipeline(model_tree, model_lr, model_rf)\n",
    "stack_ds3 = pipeline.stack(k=10, seed=1)\n",
    "# модель второго уровня\n",
    "stacker = Regressor(dataset=stack_ds3, estimator=LinearRegression)\n",
    "results = stacker.validate(k=10,scorer=mean_absolute_error)"
   ]
  },
  {
   "cell_type": "markdown",
   "id": "3ff66b57",
   "metadata": {},
   "source": [
    "Наилучший результат получен при использовании дерева и линейной регрессии на первом уровне и случайного леса на втором."
   ]
  },
  {
   "cell_type": "code",
   "execution_count": null,
   "id": "fb11b957",
   "metadata": {},
   "outputs": [],
   "source": []
  }
 ],
 "metadata": {
  "kernelspec": {
   "display_name": "Python 3 (ipykernel)",
   "language": "python",
   "name": "python3"
  },
  "language_info": {
   "codemirror_mode": {
    "name": "ipython",
    "version": 3
   },
   "file_extension": ".py",
   "mimetype": "text/x-python",
   "name": "python",
   "nbconvert_exporter": "python",
   "pygments_lexer": "ipython3",
   "version": "3.10.6"
  }
 },
 "nbformat": 4,
 "nbformat_minor": 5
}
