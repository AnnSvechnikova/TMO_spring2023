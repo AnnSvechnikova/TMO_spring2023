{
 "cells": [
  {
   "cell_type": "markdown",
   "id": "ffbc30df",
   "metadata": {},
   "source": [
    "**РК 1**\n",
    "\n",
    "**Свечникова Анна, ИУ5-64Б**\n",
    "\n",
    "**Вариант 11**\n",
    "\n",
    "Задача 2\n",
    "\n",
    "Набор данных 3 "
   ]
  },
  {
   "cell_type": "markdown",
   "id": "fe8747ab",
   "metadata": {},
   "source": [
    "# 1) Импорт библиотек и загрузка данных"
   ]
  },
  {
   "cell_type": "code",
   "execution_count": null,
   "id": "480271d1",
   "metadata": {},
   "outputs": [],
   "source": [
    "pip install seaborn"
   ]
  },
  {
   "cell_type": "code",
   "execution_count": null,
   "id": "31931baf",
   "metadata": {},
   "outputs": [],
   "source": [
    "pip install scikit-learn"
   ]
  },
  {
   "cell_type": "code",
   "execution_count": 2,
   "id": "24531a18",
   "metadata": {},
   "outputs": [],
   "source": [
    "import numpy as np\n",
    "import pandas as pd\n",
    "import opendatasets as od\n",
    "import seaborn as sns\n",
    "import matplotlib.pyplot as plt\n",
    "from sklearn.impute import SimpleImputer"
   ]
  },
  {
   "cell_type": "code",
   "execution_count": null,
   "id": "b3078b09",
   "metadata": {},
   "outputs": [],
   "source": [
    "od.download(\"https://www.kaggle.com/datasets/carlolepelaars/toy-dataset\")"
   ]
  },
  {
   "cell_type": "code",
   "execution_count": 31,
   "id": "465af7e8",
   "metadata": {},
   "outputs": [],
   "source": [
    "default_ds = pd.read_csv(\"toy-dataset/toy_dataset.csv\")"
   ]
  },
  {
   "cell_type": "markdown",
   "id": "a1a2fa9a",
   "metadata": {},
   "source": [
    "# 2) Первичный анализ данных"
   ]
  },
  {
   "cell_type": "code",
   "execution_count": 32,
   "id": "756d13ae",
   "metadata": {},
   "outputs": [
    {
     "data": {
      "text/plain": [
       "(150000, 6)"
      ]
     },
     "execution_count": 32,
     "metadata": {},
     "output_type": "execute_result"
    }
   ],
   "source": [
    "#число строк и столбцов в датасете\n",
    "default_ds.shape"
   ]
  },
  {
   "cell_type": "code",
   "execution_count": 33,
   "id": "a51eaddf",
   "metadata": {},
   "outputs": [
    {
     "name": "stdout",
     "output_type": "stream",
     "text": [
      "<class 'pandas.core.frame.DataFrame'>\n",
      "RangeIndex: 150000 entries, 0 to 149999\n",
      "Data columns (total 6 columns):\n",
      " #   Column   Non-Null Count   Dtype  \n",
      "---  ------   --------------   -----  \n",
      " 0   Number   150000 non-null  int64  \n",
      " 1   City     150000 non-null  object \n",
      " 2   Gender   150000 non-null  object \n",
      " 3   Age      150000 non-null  int64  \n",
      " 4   Income   150000 non-null  float64\n",
      " 5   Illness  150000 non-null  object \n",
      "dtypes: float64(1), int64(2), object(3)\n",
      "memory usage: 6.9+ MB\n"
     ]
    }
   ],
   "source": [
    "#названия и типы столбцов, а также число ненулевых значений в столбце\n",
    "default_ds.info()"
   ]
  },
  {
   "cell_type": "code",
   "execution_count": 34,
   "id": "fbe139d6",
   "metadata": {
    "scrolled": true
   },
   "outputs": [
    {
     "data": {
      "text/html": [
       "<div>\n",
       "<style scoped>\n",
       "    .dataframe tbody tr th:only-of-type {\n",
       "        vertical-align: middle;\n",
       "    }\n",
       "\n",
       "    .dataframe tbody tr th {\n",
       "        vertical-align: top;\n",
       "    }\n",
       "\n",
       "    .dataframe thead th {\n",
       "        text-align: right;\n",
       "    }\n",
       "</style>\n",
       "<table border=\"1\" class=\"dataframe\">\n",
       "  <thead>\n",
       "    <tr style=\"text-align: right;\">\n",
       "      <th></th>\n",
       "      <th>Number</th>\n",
       "      <th>Age</th>\n",
       "      <th>Income</th>\n",
       "    </tr>\n",
       "  </thead>\n",
       "  <tbody>\n",
       "    <tr>\n",
       "      <th>count</th>\n",
       "      <td>150000.000000</td>\n",
       "      <td>150000.000000</td>\n",
       "      <td>150000.000000</td>\n",
       "    </tr>\n",
       "    <tr>\n",
       "      <th>mean</th>\n",
       "      <td>75000.500000</td>\n",
       "      <td>44.950200</td>\n",
       "      <td>91252.798273</td>\n",
       "    </tr>\n",
       "    <tr>\n",
       "      <th>std</th>\n",
       "      <td>43301.414527</td>\n",
       "      <td>11.572486</td>\n",
       "      <td>24989.500948</td>\n",
       "    </tr>\n",
       "    <tr>\n",
       "      <th>min</th>\n",
       "      <td>1.000000</td>\n",
       "      <td>25.000000</td>\n",
       "      <td>-654.000000</td>\n",
       "    </tr>\n",
       "    <tr>\n",
       "      <th>25%</th>\n",
       "      <td>37500.750000</td>\n",
       "      <td>35.000000</td>\n",
       "      <td>80867.750000</td>\n",
       "    </tr>\n",
       "    <tr>\n",
       "      <th>50%</th>\n",
       "      <td>75000.500000</td>\n",
       "      <td>45.000000</td>\n",
       "      <td>93655.000000</td>\n",
       "    </tr>\n",
       "    <tr>\n",
       "      <th>75%</th>\n",
       "      <td>112500.250000</td>\n",
       "      <td>55.000000</td>\n",
       "      <td>104519.000000</td>\n",
       "    </tr>\n",
       "    <tr>\n",
       "      <th>max</th>\n",
       "      <td>150000.000000</td>\n",
       "      <td>65.000000</td>\n",
       "      <td>177157.000000</td>\n",
       "    </tr>\n",
       "  </tbody>\n",
       "</table>\n",
       "</div>"
      ],
      "text/plain": [
       "              Number            Age         Income\n",
       "count  150000.000000  150000.000000  150000.000000\n",
       "mean    75000.500000      44.950200   91252.798273\n",
       "std     43301.414527      11.572486   24989.500948\n",
       "min         1.000000      25.000000    -654.000000\n",
       "25%     37500.750000      35.000000   80867.750000\n",
       "50%     75000.500000      45.000000   93655.000000\n",
       "75%    112500.250000      55.000000  104519.000000\n",
       "max    150000.000000      65.000000  177157.000000"
      ]
     },
     "execution_count": 34,
     "metadata": {},
     "output_type": "execute_result"
    }
   ],
   "source": [
    "# основные статистические характеристики\n",
    "default_ds.describe()"
   ]
  },
  {
   "cell_type": "code",
   "execution_count": 35,
   "id": "bf5422cf",
   "metadata": {},
   "outputs": [
    {
     "data": {
      "text/html": [
       "<div>\n",
       "<style scoped>\n",
       "    .dataframe tbody tr th:only-of-type {\n",
       "        vertical-align: middle;\n",
       "    }\n",
       "\n",
       "    .dataframe tbody tr th {\n",
       "        vertical-align: top;\n",
       "    }\n",
       "\n",
       "    .dataframe thead th {\n",
       "        text-align: right;\n",
       "    }\n",
       "</style>\n",
       "<table border=\"1\" class=\"dataframe\">\n",
       "  <thead>\n",
       "    <tr style=\"text-align: right;\">\n",
       "      <th></th>\n",
       "      <th>Number</th>\n",
       "      <th>City</th>\n",
       "      <th>Gender</th>\n",
       "      <th>Age</th>\n",
       "      <th>Income</th>\n",
       "      <th>Illness</th>\n",
       "    </tr>\n",
       "  </thead>\n",
       "  <tbody>\n",
       "    <tr>\n",
       "      <th>0</th>\n",
       "      <td>1</td>\n",
       "      <td>Dallas</td>\n",
       "      <td>Male</td>\n",
       "      <td>41</td>\n",
       "      <td>40367.0</td>\n",
       "      <td>No</td>\n",
       "    </tr>\n",
       "    <tr>\n",
       "      <th>1</th>\n",
       "      <td>2</td>\n",
       "      <td>Dallas</td>\n",
       "      <td>Male</td>\n",
       "      <td>54</td>\n",
       "      <td>45084.0</td>\n",
       "      <td>No</td>\n",
       "    </tr>\n",
       "    <tr>\n",
       "      <th>2</th>\n",
       "      <td>3</td>\n",
       "      <td>Dallas</td>\n",
       "      <td>Male</td>\n",
       "      <td>42</td>\n",
       "      <td>52483.0</td>\n",
       "      <td>No</td>\n",
       "    </tr>\n",
       "    <tr>\n",
       "      <th>3</th>\n",
       "      <td>4</td>\n",
       "      <td>Dallas</td>\n",
       "      <td>Male</td>\n",
       "      <td>40</td>\n",
       "      <td>40941.0</td>\n",
       "      <td>No</td>\n",
       "    </tr>\n",
       "    <tr>\n",
       "      <th>4</th>\n",
       "      <td>5</td>\n",
       "      <td>Dallas</td>\n",
       "      <td>Male</td>\n",
       "      <td>46</td>\n",
       "      <td>50289.0</td>\n",
       "      <td>No</td>\n",
       "    </tr>\n",
       "    <tr>\n",
       "      <th>5</th>\n",
       "      <td>6</td>\n",
       "      <td>Dallas</td>\n",
       "      <td>Female</td>\n",
       "      <td>36</td>\n",
       "      <td>50786.0</td>\n",
       "      <td>No</td>\n",
       "    </tr>\n",
       "    <tr>\n",
       "      <th>6</th>\n",
       "      <td>7</td>\n",
       "      <td>Dallas</td>\n",
       "      <td>Female</td>\n",
       "      <td>32</td>\n",
       "      <td>33155.0</td>\n",
       "      <td>No</td>\n",
       "    </tr>\n",
       "    <tr>\n",
       "      <th>7</th>\n",
       "      <td>8</td>\n",
       "      <td>Dallas</td>\n",
       "      <td>Male</td>\n",
       "      <td>39</td>\n",
       "      <td>30914.0</td>\n",
       "      <td>No</td>\n",
       "    </tr>\n",
       "    <tr>\n",
       "      <th>8</th>\n",
       "      <td>9</td>\n",
       "      <td>Dallas</td>\n",
       "      <td>Male</td>\n",
       "      <td>51</td>\n",
       "      <td>68667.0</td>\n",
       "      <td>No</td>\n",
       "    </tr>\n",
       "    <tr>\n",
       "      <th>9</th>\n",
       "      <td>10</td>\n",
       "      <td>Dallas</td>\n",
       "      <td>Female</td>\n",
       "      <td>30</td>\n",
       "      <td>50082.0</td>\n",
       "      <td>No</td>\n",
       "    </tr>\n",
       "  </tbody>\n",
       "</table>\n",
       "</div>"
      ],
      "text/plain": [
       "   Number    City  Gender  Age   Income Illness\n",
       "0       1  Dallas    Male   41  40367.0      No\n",
       "1       2  Dallas    Male   54  45084.0      No\n",
       "2       3  Dallas    Male   42  52483.0      No\n",
       "3       4  Dallas    Male   40  40941.0      No\n",
       "4       5  Dallas    Male   46  50289.0      No\n",
       "5       6  Dallas  Female   36  50786.0      No\n",
       "6       7  Dallas  Female   32  33155.0      No\n",
       "7       8  Dallas    Male   39  30914.0      No\n",
       "8       9  Dallas    Male   51  68667.0      No\n",
       "9      10  Dallas  Female   30  50082.0      No"
      ]
     },
     "execution_count": 35,
     "metadata": {},
     "output_type": "execute_result"
    }
   ],
   "source": [
    "default_ds.head(10)"
   ]
  },
  {
   "cell_type": "markdown",
   "id": "a8e4c5ee",
   "metadata": {},
   "source": [
    "Набор данных содержит следующие столбцы:\n",
    "* Number - номер записи\n",
    "* City - город проживания\n",
    "* Gender - пол\n",
    "* Age - возраст\n",
    "* Income - доход\n",
    "* Illnes - Yes, если человек болен, No, если не болен\n",
    "\n",
    "Набор данных содержит как категориальные, так и количественные признаки. "
   ]
  },
  {
   "cell_type": "markdown",
   "id": "22cbb187",
   "metadata": {},
   "source": [
    "# 3) Добавление пропусков"
   ]
  },
  {
   "cell_type": "markdown",
   "id": "992519f5",
   "metadata": {},
   "source": [
    "Набор данных содержит пропусков, которые необходимы для выполнения задания. Добавим искусственно пропуски в столбцы Income и City, заменив 10% значений в этих столбцах на NaN."
   ]
  },
  {
   "cell_type": "code",
   "execution_count": 36,
   "id": "0036faeb",
   "metadata": {},
   "outputs": [
    {
     "data": {
      "text/plain": [
       "Number     0\n",
       "City       0\n",
       "Gender     0\n",
       "Age        0\n",
       "Income     0\n",
       "Illness    0\n",
       "dtype: int64"
      ]
     },
     "execution_count": 36,
     "metadata": {},
     "output_type": "execute_result"
    }
   ],
   "source": [
    "# создадим копию датасета, которую будем \"портить\"\n",
    "missed_ds = default_ds.copy()\n",
    "missed_ds.isnull().sum()"
   ]
  },
  {
   "cell_type": "code",
   "execution_count": 37,
   "id": "7f8c4798",
   "metadata": {},
   "outputs": [],
   "source": [
    "# создадим массив случайных номеров строк\n",
    "rand_nums = np.random.randint(0, 150000, 15000)\n",
    "# используем метод pandas.DataFrame.loc для доступа к группе ячеек\n",
    "missed_ds.loc[rand_nums, [\"Income\"]] = np.NaN"
   ]
  },
  {
   "cell_type": "code",
   "execution_count": 38,
   "id": "c2d66351",
   "metadata": {},
   "outputs": [],
   "source": [
    "# Повторим для другого столбца\n",
    "rand_nums = np.random.randint(0, 150000, 15000)\n",
    "missed_ds.loc[rand_nums, [\"City\"]] = np.NaN"
   ]
  },
  {
   "cell_type": "code",
   "execution_count": 39,
   "id": "80ffa9c7",
   "metadata": {},
   "outputs": [
    {
     "data": {
      "text/plain": [
       "Number         0\n",
       "City       14293\n",
       "Gender         0\n",
       "Age            0\n",
       "Income     14330\n",
       "Illness        0\n",
       "dtype: int64"
      ]
     },
     "execution_count": 39,
     "metadata": {},
     "output_type": "execute_result"
    }
   ],
   "source": [
    "# проверим число пропусков\n",
    "missed_ds.isnull().sum()"
   ]
  },
  {
   "cell_type": "markdown",
   "id": "2e272ef5",
   "metadata": {},
   "source": [
    "Фактически, мы получили меньше пропущенных значений, поскольку массив rand_nums содержит повторяющиеся значения."
   ]
  },
  {
   "cell_type": "markdown",
   "id": "bac30c2c",
   "metadata": {},
   "source": [
    "# 4) Заполнение пропусков"
   ]
  },
  {
   "cell_type": "markdown",
   "id": "9d5bfa33",
   "metadata": {},
   "source": [
    "Для заполнения пропусков в столбце Income, содержащем числовые данные, используем класс SimpleImputer из библиотеки scikit-learn и заменим пропуски значением медианы. Выберем медиану, а не среднее значение, т.к. на нее оказывают меньшее влияние выбросы."
   ]
  },
  {
   "cell_type": "code",
   "execution_count": 41,
   "id": "a05149e5",
   "metadata": {},
   "outputs": [],
   "source": [
    "inc_imputer = SimpleImputer(strategy=\"median\", missing_values=np.nan)\n",
    "arr1 = inc_imputer.fit_transform(missed_ds[[\"Income\"]])\n",
    "missed_ds[\"Income\"] = arr1"
   ]
  },
  {
   "cell_type": "markdown",
   "id": "654098f6",
   "metadata": {},
   "source": [
    "Пропущенные значения в столбце City, содержащим категориальный признак, заменим на самое часто встречающееся значение. (Здесь использован fillna, потому что использование SimpleImputer с параметром strategy=most_frequent аналогично предыдущему шагу давало ошибку, с которой у меня не получилось разобраться)"
   ]
  },
  {
   "cell_type": "code",
   "execution_count": 43,
   "id": "b74a41fa",
   "metadata": {},
   "outputs": [],
   "source": [
    "missed_ds[\"City\"].fillna(missed_ds[\"City\"].mode()[0], inplace = True)"
   ]
  },
  {
   "cell_type": "code",
   "execution_count": 44,
   "id": "d57a9f4c",
   "metadata": {},
   "outputs": [
    {
     "data": {
      "text/plain": [
       "City\n",
       "New York City      50307\n",
       "Los Angeles        32173\n",
       "Dallas             19707\n",
       "Mountain View      14219\n",
       "Austin             12292\n",
       "Boston              8301\n",
       "Washington D.C.     8120\n",
       "San Diego           4881\n",
       "Name: count, dtype: int64"
      ]
     },
     "execution_count": 44,
     "metadata": {},
     "output_type": "execute_result"
    }
   ],
   "source": [
    "default_ds[\"City\"].value_counts()"
   ]
  },
  {
   "cell_type": "code",
   "execution_count": 45,
   "id": "ba40d6eb",
   "metadata": {},
   "outputs": [
    {
     "data": {
      "text/plain": [
       "City\n",
       "New York City      59705\n",
       "Los Angeles        29070\n",
       "Dallas             17849\n",
       "Mountain View      12890\n",
       "Austin             11112\n",
       "Boston              7569\n",
       "Washington D.C.     7370\n",
       "San Diego           4435\n",
       "Name: count, dtype: int64"
      ]
     },
     "execution_count": 45,
     "metadata": {},
     "output_type": "execute_result"
    }
   ],
   "source": [
    "missed_ds[\"City\"].value_counts()"
   ]
  },
  {
   "cell_type": "markdown",
   "id": "2fb62bdc",
   "metadata": {},
   "source": [
    "Видно, что число строк, в которых City = New York City, увеличилось."
   ]
  },
  {
   "cell_type": "code",
   "execution_count": 46,
   "id": "947b36fb",
   "metadata": {},
   "outputs": [
    {
     "data": {
      "text/plain": [
       "Number     0\n",
       "City       0\n",
       "Gender     0\n",
       "Age        0\n",
       "Income     0\n",
       "Illness    0\n",
       "dtype: int64"
      ]
     },
     "execution_count": 46,
     "metadata": {},
     "output_type": "execute_result"
    }
   ],
   "source": [
    "# убедимся, что в наборе данных нет пропусков\n",
    "missed_ds.isnull().sum()"
   ]
  },
  {
   "cell_type": "markdown",
   "id": "8219f6ba",
   "metadata": {},
   "source": [
    "# 5) График\n",
    "Построим Скрипичную диаграмму для столбца Income, сгруппировав данные по значениям столбца Gender. Построим график для первой версии датасета и для версии с заполненными пропусками."
   ]
  },
  {
   "cell_type": "code",
   "execution_count": 47,
   "id": "8308d296",
   "metadata": {},
   "outputs": [
    {
     "data": {
      "text/plain": [
       "<Axes: xlabel='Income', ylabel='Gender'>"
      ]
     },
     "execution_count": 47,
     "metadata": {},
     "output_type": "execute_result"
    },
    {
     "data": {
      "image/png": "[encoded data removed]",
      "text/plain": [
       "<Figure size 640x480 with 1 Axes>"
      ]
     },
     "metadata": {},
     "output_type": "display_data"
    }
   ],
   "source": [
    "sns.violinplot(data = default_ds, x=\"Income\", y=\"Gender\")"
   ]
  },
  {
   "cell_type": "code",
   "execution_count": 48,
   "id": "0a95d85e",
   "metadata": {},
   "outputs": [
    {
     "data": {
      "text/plain": [
       "<Axes: xlabel='Income', ylabel='Gender'>"
      ]
     },
     "execution_count": 48,
     "metadata": {},
     "output_type": "execute_result"
    },
    {
     "data": {
      "image/png": "[encoded data removed]",
      "text/plain": [
       "<Figure size 640x480 with 1 Axes>"
      ]
     },
     "metadata": {},
     "output_type": "display_data"
    }
   ],
   "source": [
    "sns.violinplot(data = missed_ds, x=\"Income\", y=\"Gender\")"
   ]
  },
  {
   "cell_type": "markdown",
   "id": "61726142",
   "metadata": {},
   "source": [
    "Распределение зачений признака стало менее плавным, т.к. были искусственно добавлены медианные значения. "
   ]
  },
  {
   "cell_type": "markdown",
   "id": "abf1f5cc",
   "metadata": {},
   "source": [
    "# 6) Вывод\n",
    "Для дальнейшего построения моделей машинного обучения можно использовать все признаки, кроме Number, так как он не несет смысловой нагрузки и отражает только номер записи в наборе. В качестве целевого признака при прогнозировании можно использовать Illnes и определять, какой из факторов: город проживания, пол, возраст или уровень дохода сильнее влияет на наличие болезней."
   ]
  }
 ],
 "metadata": {
  "kernelspec": {
   "display_name": "Python 3 (ipykernel)",
   "language": "python",
   "name": "python3"
  },
  "language_info": {
   "codemirror_mode": {
    "name": "ipython",
    "version": 3
   },
   "file_extension": ".py",
   "mimetype": "text/x-python",
   "name": "python",
   "nbconvert_exporter": "python",
   "pygments_lexer": "ipython3",
   "version": "3.10.6"
  }
 },
 "nbformat": 4,
 "nbformat_minor": 5
}
