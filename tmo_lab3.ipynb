{
 "cells": [
  {
   "cell_type": "markdown",
   "id": "ff621193",
   "metadata": {},
   "source": [
    "# Подготовка обучающей и тестовой выборки, кросс-валидация и подбор гиперпараметров на примере метода ближайших соседей."
   ]
  },
  {
   "cell_type": "code",
   "execution_count": 1,
   "id": "8679e88f",
   "metadata": {},
   "outputs": [
    {
     "name": "stdout",
     "output_type": "stream",
     "text": [
      "Please provide your Kaggle credentials to download this dataset. Learn more: http://bit.ly/kaggle-creds\n",
      "Your Kaggle username: anncandle\n",
      "Your Kaggle Key: ········\n",
      "Downloading star-type-classification.zip to ./star-type-classification\n"
     ]
    },
    {
     "name": "stderr",
     "output_type": "stream",
     "text": [
      "100%|███████████████████████████████████████| 3.09k/3.09k [00:00<00:00, 598kB/s]"
     ]
    },
    {
     "name": "stdout",
     "output_type": "stream",
     "text": [
      "\n"
     ]
    },
    {
     "name": "stderr",
     "output_type": "stream",
     "text": [
      "\n"
     ]
    }
   ],
   "source": [
    "import opendatasets as od\n",
    "od.download(\"https://www.kaggle.com/datasets/brsdincer/star-type-classification\")"
   ]
  },
  {
   "cell_type": "markdown",
   "id": "d2662c06",
   "metadata": {},
   "source": [
    "## Предварительная обработка данных"
   ]
  },
  {
   "cell_type": "code",
   "execution_count": 307,
   "id": "cdbf111d",
   "metadata": {},
   "outputs": [],
   "source": [
    "import pandas as pd\n",
    "import numpy as np\n",
    "import seaborn as sns\n",
    "import matplotlib as plt"
   ]
  },
  {
   "cell_type": "code",
   "execution_count": 308,
   "id": "186cf772",
   "metadata": {},
   "outputs": [],
   "source": [
    "stars = pd.read_csv(\"star-type-classification/Stars.csv\")"
   ]
  },
  {
   "cell_type": "markdown",
   "id": "3b60ae0d",
   "metadata": {},
   "source": [
    "Загрузили датасет, содержащий данные НАСА о звездах. Датасет содержит следующие столбцы:\n",
    "* Temperature - температура в Кельвинах\n",
    "* L - относительная яркость\n",
    "* R - относительный радиус\n",
    "* A_M - абсолютная звездная величина\n",
    "* Color - цвет\n",
    "* Spectral_Class - спектральный класс\n",
    "* Type - тип\n",
    "\n",
    "Будем решать задачу классификации: к какому типу относится звезда?"
   ]
  },
  {
   "cell_type": "code",
   "execution_count": 309,
   "id": "9b60871e",
   "metadata": {},
   "outputs": [
    {
     "name": "stdout",
     "output_type": "stream",
     "text": [
      "<class 'pandas.core.frame.DataFrame'>\n",
      "RangeIndex: 240 entries, 0 to 239\n",
      "Data columns (total 7 columns):\n",
      " #   Column          Non-Null Count  Dtype  \n",
      "---  ------          --------------  -----  \n",
      " 0   Temperature     240 non-null    int64  \n",
      " 1   L               240 non-null    float64\n",
      " 2   R               240 non-null    float64\n",
      " 3   A_M             240 non-null    float64\n",
      " 4   Color           240 non-null    object \n",
      " 5   Spectral_Class  240 non-null    object \n",
      " 6   Type            240 non-null    int64  \n",
      "dtypes: float64(3), int64(2), object(2)\n",
      "memory usage: 13.2+ KB\n"
     ]
    }
   ],
   "source": [
    "stars.info()"
   ]
  },
  {
   "cell_type": "code",
   "execution_count": 310,
   "id": "32c20791",
   "metadata": {},
   "outputs": [
    {
     "data": {
      "text/plain": [
       "Temperature       0\n",
       "L                 0\n",
       "R                 0\n",
       "A_M               0\n",
       "Color             0\n",
       "Spectral_Class    0\n",
       "Type              0\n",
       "dtype: int64"
      ]
     },
     "execution_count": 310,
     "metadata": {},
     "output_type": "execute_result"
    }
   ],
   "source": [
    "stars.isnull().sum()"
   ]
  },
  {
   "cell_type": "code",
   "execution_count": 311,
   "id": "5278aed8",
   "metadata": {},
   "outputs": [
    {
     "data": {
      "text/html": [
       "<div>\n",
       "<style scoped>\n",
       "    .dataframe tbody tr th:only-of-type {\n",
       "        vertical-align: middle;\n",
       "    }\n",
       "\n",
       "    .dataframe tbody tr th {\n",
       "        vertical-align: top;\n",
       "    }\n",
       "\n",
       "    .dataframe thead th {\n",
       "        text-align: right;\n",
       "    }\n",
       "</style>\n",
       "<table border=\"1\" class=\"dataframe\">\n",
       "  <thead>\n",
       "    <tr style=\"text-align: right;\">\n",
       "      <th></th>\n",
       "      <th>Temperature</th>\n",
       "      <th>L</th>\n",
       "      <th>R</th>\n",
       "      <th>A_M</th>\n",
       "      <th>Color</th>\n",
       "      <th>Spectral_Class</th>\n",
       "      <th>Type</th>\n",
       "    </tr>\n",
       "  </thead>\n",
       "  <tbody>\n",
       "    <tr>\n",
       "      <th>0</th>\n",
       "      <td>3068</td>\n",
       "      <td>0.002400</td>\n",
       "      <td>0.1700</td>\n",
       "      <td>16.12</td>\n",
       "      <td>Red</td>\n",
       "      <td>M</td>\n",
       "      <td>0</td>\n",
       "    </tr>\n",
       "    <tr>\n",
       "      <th>1</th>\n",
       "      <td>3042</td>\n",
       "      <td>0.000500</td>\n",
       "      <td>0.1542</td>\n",
       "      <td>16.60</td>\n",
       "      <td>Red</td>\n",
       "      <td>M</td>\n",
       "      <td>0</td>\n",
       "    </tr>\n",
       "    <tr>\n",
       "      <th>2</th>\n",
       "      <td>2600</td>\n",
       "      <td>0.000300</td>\n",
       "      <td>0.1020</td>\n",
       "      <td>18.70</td>\n",
       "      <td>Red</td>\n",
       "      <td>M</td>\n",
       "      <td>0</td>\n",
       "    </tr>\n",
       "    <tr>\n",
       "      <th>3</th>\n",
       "      <td>2800</td>\n",
       "      <td>0.000200</td>\n",
       "      <td>0.1600</td>\n",
       "      <td>16.65</td>\n",
       "      <td>Red</td>\n",
       "      <td>M</td>\n",
       "      <td>0</td>\n",
       "    </tr>\n",
       "    <tr>\n",
       "      <th>4</th>\n",
       "      <td>1939</td>\n",
       "      <td>0.000138</td>\n",
       "      <td>0.1030</td>\n",
       "      <td>20.06</td>\n",
       "      <td>Red</td>\n",
       "      <td>M</td>\n",
       "      <td>0</td>\n",
       "    </tr>\n",
       "  </tbody>\n",
       "</table>\n",
       "</div>"
      ],
      "text/plain": [
       "   Temperature         L       R    A_M Color Spectral_Class  Type\n",
       "0         3068  0.002400  0.1700  16.12   Red              M     0\n",
       "1         3042  0.000500  0.1542  16.60   Red              M     0\n",
       "2         2600  0.000300  0.1020  18.70   Red              M     0\n",
       "3         2800  0.000200  0.1600  16.65   Red              M     0\n",
       "4         1939  0.000138  0.1030  20.06   Red              M     0"
      ]
     },
     "execution_count": 311,
     "metadata": {},
     "output_type": "execute_result"
    }
   ],
   "source": [
    "stars.head()"
   ]
  },
  {
   "cell_type": "code",
   "execution_count": 312,
   "id": "51e49c28",
   "metadata": {},
   "outputs": [
    {
     "data": {
      "text/plain": [
       "Type\n",
       "0    40\n",
       "1    40\n",
       "2    40\n",
       "3    40\n",
       "4    40\n",
       "5    40\n",
       "Name: count, dtype: int64"
      ]
     },
     "execution_count": 312,
     "metadata": {},
     "output_type": "execute_result"
    }
   ],
   "source": [
    "stars[\"Type\"].value_counts()"
   ]
  },
  {
   "cell_type": "markdown",
   "id": "7b29aabd",
   "metadata": {},
   "source": [
    "Данные в наборе делятся на шесть классов, при этом нет дисбаланса классов.\n",
    "Набор данных не содержит пропусков, но содержит категориальные признаки. Произведем их кодирование. Также произведем масштабирование данных."
   ]
  },
  {
   "cell_type": "code",
   "execution_count": 313,
   "id": "1eef2a0e",
   "metadata": {},
   "outputs": [],
   "source": [
    "from sklearn.preprocessing import OrdinalEncoder\n",
    "from sklearn.preprocessing import MinMaxScaler\n",
    "oe = OrdinalEncoder()\n",
    "stars[[\"Color\", \"Spectral_Class\"]] = oe.fit_transform(stars[[\"Color\", \"Spectral_Class\"]])\n",
    "sc = MinMaxScaler()\n",
    "stars[['Temperature','L','R','A_M','Color','Spectral_Class']] = sc.fit_transform(\n",
    "    stars[['Temperature','L','R','A_M','Color','Spectral_Class']])"
   ]
  },
  {
   "cell_type": "code",
   "execution_count": 314,
   "id": "c3c354b0",
   "metadata": {},
   "outputs": [
    {
     "data": {
      "text/html": [
       "<div>\n",
       "<style scoped>\n",
       "    .dataframe tbody tr th:only-of-type {\n",
       "        vertical-align: middle;\n",
       "    }\n",
       "\n",
       "    .dataframe tbody tr th {\n",
       "        vertical-align: top;\n",
       "    }\n",
       "\n",
       "    .dataframe thead th {\n",
       "        text-align: right;\n",
       "    }\n",
       "</style>\n",
       "<table border=\"1\" class=\"dataframe\">\n",
       "  <thead>\n",
       "    <tr style=\"text-align: right;\">\n",
       "      <th></th>\n",
       "      <th>Temperature</th>\n",
       "      <th>L</th>\n",
       "      <th>R</th>\n",
       "      <th>A_M</th>\n",
       "      <th>Color</th>\n",
       "      <th>Spectral_Class</th>\n",
       "      <th>Type</th>\n",
       "    </tr>\n",
       "  </thead>\n",
       "  <tbody>\n",
       "    <tr>\n",
       "      <th>0</th>\n",
       "      <td>0.029663</td>\n",
       "      <td>2.731275e-09</td>\n",
       "      <td>0.000083</td>\n",
       "      <td>0.876798</td>\n",
       "      <td>0.5</td>\n",
       "      <td>0.833333</td>\n",
       "      <td>0</td>\n",
       "    </tr>\n",
       "    <tr>\n",
       "      <th>1</th>\n",
       "      <td>0.028980</td>\n",
       "      <td>4.944550e-10</td>\n",
       "      <td>0.000075</td>\n",
       "      <td>0.891807</td>\n",
       "      <td>0.5</td>\n",
       "      <td>0.833333</td>\n",
       "      <td>0</td>\n",
       "    </tr>\n",
       "    <tr>\n",
       "      <th>2</th>\n",
       "      <td>0.017367</td>\n",
       "      <td>2.590003e-10</td>\n",
       "      <td>0.000048</td>\n",
       "      <td>0.957473</td>\n",
       "      <td>0.5</td>\n",
       "      <td>0.833333</td>\n",
       "      <td>0</td>\n",
       "    </tr>\n",
       "    <tr>\n",
       "      <th>3</th>\n",
       "      <td>0.022622</td>\n",
       "      <td>1.412729e-10</td>\n",
       "      <td>0.000078</td>\n",
       "      <td>0.893371</td>\n",
       "      <td>0.5</td>\n",
       "      <td>0.833333</td>\n",
       "      <td>0</td>\n",
       "    </tr>\n",
       "    <tr>\n",
       "      <th>4</th>\n",
       "      <td>0.000000</td>\n",
       "      <td>6.828189e-11</td>\n",
       "      <td>0.000049</td>\n",
       "      <td>1.000000</td>\n",
       "      <td>0.5</td>\n",
       "      <td>0.833333</td>\n",
       "      <td>0</td>\n",
       "    </tr>\n",
       "  </tbody>\n",
       "</table>\n",
       "</div>"
      ],
      "text/plain": [
       "   Temperature             L         R       A_M  Color  Spectral_Class  Type\n",
       "0     0.029663  2.731275e-09  0.000083  0.876798    0.5        0.833333     0\n",
       "1     0.028980  4.944550e-10  0.000075  0.891807    0.5        0.833333     0\n",
       "2     0.017367  2.590003e-10  0.000048  0.957473    0.5        0.833333     0\n",
       "3     0.022622  1.412729e-10  0.000078  0.893371    0.5        0.833333     0\n",
       "4     0.000000  6.828189e-11  0.000049  1.000000    0.5        0.833333     0"
      ]
     },
     "execution_count": 314,
     "metadata": {},
     "output_type": "execute_result"
    }
   ],
   "source": [
    "stars.head()\n"
   ]
  },
  {
   "cell_type": "markdown",
   "id": "f4bf035b",
   "metadata": {},
   "source": [
    "## Разделение выборки на обучающую и тестовую"
   ]
  },
  {
   "cell_type": "code",
   "execution_count": 315,
   "id": "0b52d2d1",
   "metadata": {},
   "outputs": [],
   "source": [
    "from sklearn.model_selection import train_test_split\n",
    "from sklearn.neighbors import KNeighborsClassifier"
   ]
  },
  {
   "cell_type": "code",
   "execution_count": 316,
   "id": "06837d4e",
   "metadata": {},
   "outputs": [],
   "source": [
    "x_train, x_test, y_train, y_test = train_test_split(\n",
    "    stars[[\"Temperature\", \"L\", \"R\", \"A_M\", \"Color\", \"Spectral_Class\"]], stars[[\"Type\"]], random_state=1)"
   ]
  },
  {
   "cell_type": "code",
   "execution_count": 317,
   "id": "7862ee05",
   "metadata": {},
   "outputs": [
    {
     "data": {
      "text/html": [
       "<div>\n",
       "<style scoped>\n",
       "    .dataframe tbody tr th:only-of-type {\n",
       "        vertical-align: middle;\n",
       "    }\n",
       "\n",
       "    .dataframe tbody tr th {\n",
       "        vertical-align: top;\n",
       "    }\n",
       "\n",
       "    .dataframe thead th {\n",
       "        text-align: right;\n",
       "    }\n",
       "</style>\n",
       "<table border=\"1\" class=\"dataframe\">\n",
       "  <thead>\n",
       "    <tr style=\"text-align: right;\">\n",
       "      <th></th>\n",
       "      <th>Temperature</th>\n",
       "      <th>L</th>\n",
       "      <th>R</th>\n",
       "      <th>A_M</th>\n",
       "      <th>Color</th>\n",
       "      <th>Spectral_Class</th>\n",
       "    </tr>\n",
       "  </thead>\n",
       "  <tbody>\n",
       "    <tr>\n",
       "      <th>116</th>\n",
       "      <td>0.054544</td>\n",
       "      <td>3.319912e-01</td>\n",
       "      <td>0.787271</td>\n",
       "      <td>0.016573</td>\n",
       "      <td>0.50</td>\n",
       "      <td>0.666667</td>\n",
       "    </tr>\n",
       "    <tr>\n",
       "      <th>200</th>\n",
       "      <td>0.390189</td>\n",
       "      <td>1.554002e-09</td>\n",
       "      <td>0.000002</td>\n",
       "      <td>0.775172</td>\n",
       "      <td>0.00</td>\n",
       "      <td>0.166667</td>\n",
       "    </tr>\n",
       "    <tr>\n",
       "      <th>47</th>\n",
       "      <td>0.042957</td>\n",
       "      <td>2.354548e-01</td>\n",
       "      <td>0.045672</td>\n",
       "      <td>0.208881</td>\n",
       "      <td>0.50</td>\n",
       "      <td>0.833333</td>\n",
       "    </tr>\n",
       "    <tr>\n",
       "      <th>179</th>\n",
       "      <td>0.592496</td>\n",
       "      <td>2.925408e-01</td>\n",
       "      <td>0.582241</td>\n",
       "      <td>0.115072</td>\n",
       "      <td>0.25</td>\n",
       "      <td>0.166667</td>\n",
       "    </tr>\n",
       "    <tr>\n",
       "      <th>231</th>\n",
       "      <td>0.953601</td>\n",
       "      <td>3.211956e-01</td>\n",
       "      <td>0.695919</td>\n",
       "      <td>0.082239</td>\n",
       "      <td>0.00</td>\n",
       "      <td>1.000000</td>\n",
       "    </tr>\n",
       "  </tbody>\n",
       "</table>\n",
       "</div>"
      ],
      "text/plain": [
       "     Temperature             L         R       A_M  Color  Spectral_Class\n",
       "116     0.054544  3.319912e-01  0.787271  0.016573   0.50        0.666667\n",
       "200     0.390189  1.554002e-09  0.000002  0.775172   0.00        0.166667\n",
       "47      0.042957  2.354548e-01  0.045672  0.208881   0.50        0.833333\n",
       "179     0.592496  2.925408e-01  0.582241  0.115072   0.25        0.166667\n",
       "231     0.953601  3.211956e-01  0.695919  0.082239   0.00        1.000000"
      ]
     },
     "execution_count": 317,
     "metadata": {},
     "output_type": "execute_result"
    }
   ],
   "source": [
    "x_train.head()"
   ]
  },
  {
   "cell_type": "code",
   "execution_count": 318,
   "id": "0ddfadf7",
   "metadata": {},
   "outputs": [
    {
     "data": {
      "text/html": [
       "<div>\n",
       "<style scoped>\n",
       "    .dataframe tbody tr th:only-of-type {\n",
       "        vertical-align: middle;\n",
       "    }\n",
       "\n",
       "    .dataframe tbody tr th {\n",
       "        vertical-align: top;\n",
       "    }\n",
       "\n",
       "    .dataframe thead th {\n",
       "        text-align: right;\n",
       "    }\n",
       "</style>\n",
       "<table border=\"1\" class=\"dataframe\">\n",
       "  <thead>\n",
       "    <tr style=\"text-align: right;\">\n",
       "      <th></th>\n",
       "      <th>Type</th>\n",
       "    </tr>\n",
       "  </thead>\n",
       "  <tbody>\n",
       "    <tr>\n",
       "      <th>116</th>\n",
       "      <td>5</td>\n",
       "    </tr>\n",
       "    <tr>\n",
       "      <th>200</th>\n",
       "      <td>2</td>\n",
       "    </tr>\n",
       "    <tr>\n",
       "      <th>47</th>\n",
       "      <td>4</td>\n",
       "    </tr>\n",
       "    <tr>\n",
       "      <th>179</th>\n",
       "      <td>5</td>\n",
       "    </tr>\n",
       "    <tr>\n",
       "      <th>231</th>\n",
       "      <td>5</td>\n",
       "    </tr>\n",
       "  </tbody>\n",
       "</table>\n",
       "</div>"
      ],
      "text/plain": [
       "     Type\n",
       "116     5\n",
       "200     2\n",
       "47      4\n",
       "179     5\n",
       "231     5"
      ]
     },
     "execution_count": 318,
     "metadata": {},
     "output_type": "execute_result"
    }
   ],
   "source": [
    "y_train.head()"
   ]
  },
  {
   "cell_type": "markdown",
   "id": "b2b635a5",
   "metadata": {},
   "source": [
    "## Обучение модели ближайших соседей"
   ]
  },
  {
   "cell_type": "markdown",
   "id": "08486bd9",
   "metadata": {},
   "source": [
    "Положим число соседей К = 10 "
   ]
  },
  {
   "cell_type": "code",
   "execution_count": 319,
   "id": "5425c3f5",
   "metadata": {},
   "outputs": [
    {
     "name": "stderr",
     "output_type": "stream",
     "text": [
      "/home/anna/notebooks/nb_env/lib/python3.10/site-packages/sklearn/neighbors/_classification.py:215: DataConversionWarning: A column-vector y was passed when a 1d array was expected. Please change the shape of y to (n_samples,), for example using ravel().\n",
      "  return self._fit(X, y)\n"
     ]
    }
   ],
   "source": [
    "cl = KNeighborsClassifier(n_neighbors = 10)\n",
    "cl.fit(x_train, y_train)\n",
    "target = cl.predict(x_test)"
   ]
  },
  {
   "cell_type": "markdown",
   "id": "3565a98c",
   "metadata": {},
   "source": [
    "Оценим качество модели"
   ]
  },
  {
   "cell_type": "code",
   "execution_count": 320,
   "id": "864b250a",
   "metadata": {},
   "outputs": [
    {
     "data": {
      "text/plain": [
       "0.8"
      ]
     },
     "execution_count": 320,
     "metadata": {},
     "output_type": "execute_result"
    }
   ],
   "source": [
    "from sklearn.metrics import accuracy_score, confusion_matrix, ConfusionMatrixDisplay\n",
    "accuracy_score(y_test, target)"
   ]
  },
  {
   "cell_type": "code",
   "execution_count": 321,
   "id": "9a991a8c",
   "metadata": {},
   "outputs": [],
   "source": [
    "from typing import Dict\n",
    "def accuracy_score_for_classes(\n",
    "    y_true: np.ndarray, \n",
    "    y_pred: np.ndarray) -> Dict[int, float]:\n",
    "    \"\"\"\n",
    "    Вычисление метрики accuracy для каждого класса\n",
    "    y_true - истинные значения классов\n",
    "    y_pred - предсказанные значения классов\n",
    "    Возвращает словарь: ключ - метка класса, \n",
    "    значение - Accuracy для данного класса\n",
    "    \"\"\"\n",
    "    # Для удобства фильтрации сформируем Pandas DataFrame \n",
    "    df = y_true.copy()\n",
    "    df.rename(columns={'Type':'t'}, inplace=True)\n",
    "    df.insert(loc=0, column='p', value=y_pred)\n",
    "    # Метки классов\n",
    "    classes = np.unique(y_true)\n",
    "    # Результирующий словарь\n",
    "    res = dict()\n",
    "    # Перебор меток классов\n",
    "    for c in classes:\n",
    "        # отфильтруем данные, которые соответствуют \n",
    "        # текущей метке класса в истинных значениях\n",
    "        temp_data_flt = df[df['t']==c]\n",
    "        # расчет accuracy для заданной метки класса\n",
    "        temp_acc = accuracy_score(\n",
    "            temp_data_flt['t'].values, \n",
    "            temp_data_flt['p'].values)\n",
    "        # сохранение результата в словарь\n",
    "        res[c] = temp_acc\n",
    "    return res\n",
    "\n",
    "def print_accuracy_score_for_classes(\n",
    "    y_true: np.ndarray, \n",
    "    y_pred: np.ndarray):\n",
    "    \"\"\"\n",
    "    Вывод метрики accuracy для каждого класса\n",
    "    \"\"\"\n",
    "    accs = accuracy_score_for_classes(y_true, y_pred)\n",
    "    if len(accs)>0:\n",
    "        print('Метка \\t Accuracy')\n",
    "    for i in accs:\n",
    "        print('{} \\t {}'.format(i, accs[i]))\n"
   ]
  },
  {
   "cell_type": "code",
   "execution_count": 322,
   "id": "34e21570",
   "metadata": {},
   "outputs": [
    {
     "name": "stdout",
     "output_type": "stream",
     "text": [
      "Метка \t Accuracy\n",
      "0 \t 1.0\n",
      "1 \t 1.0\n",
      "2 \t 1.0\n",
      "3 \t 0.2857142857142857\n",
      "4 \t 1.0\n",
      "5 \t 0.8333333333333334\n"
     ]
    }
   ],
   "source": [
    "#значение метрики для всех классов\n",
    "print_accuracy_score_for_classes(y_test, target)"
   ]
  },
  {
   "cell_type": "code",
   "execution_count": 323,
   "id": "b3d4b1b4",
   "metadata": {},
   "outputs": [
    {
     "data": {
      "image/png": "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",
      "text/plain": [
       "<Figure size 640x480 with 2 Axes>"
      ]
     },
     "metadata": {},
     "output_type": "display_data"
    }
   ],
   "source": [
    "#матрица ошибок\n",
    "cm = confusion_matrix(y_test, target)\n",
    "disp = ConfusionMatrixDisplay(confusion_matrix=cm)\n",
    "disp.plot()\n",
    "plt.pyplot.show()"
   ]
  },
  {
   "cell_type": "markdown",
   "id": "eeb6f2b4",
   "metadata": {},
   "source": [
    "## Построение оптимальной модели"
   ]
  },
  {
   "cell_type": "markdown",
   "id": "f7ebdb90",
   "metadata": {},
   "source": [
    "### Подбор гиперпараметра"
   ]
  },
  {
   "cell_type": "code",
   "execution_count": 324,
   "id": "3c6b7551",
   "metadata": {},
   "outputs": [],
   "source": [
    "from sklearn.model_selection import GridSearchCV, RandomizedSearchCV\n",
    "from sklearn.model_selection import learning_curve, validation_curve\n",
    "n_range = np.array(range(2,30,1))\n",
    "tuned_parameters = [{'n_neighbors': n_range}]"
   ]
  },
  {
   "cell_type": "code",
   "execution_count": 325,
   "id": "a8ddb236",
   "metadata": {},
   "outputs": [
    {
     "name": "stderr",
     "output_type": "stream",
     "text": [
      "/home/anna/notebooks/nb_env/lib/python3.10/site-packages/sklearn/neighbors/_classification.py:215: DataConversionWarning: A column-vector y was passed when a 1d array was expected. Please change the shape of y to (n_samples,), for example using ravel().\n",
      
     ]
    },
    {
     "name": "stderr",
     "output_type": "stream",
     "text": [
      "/home/anna/notebooks/nb_env/lib/python3.10/site-packages/sklearn/neighbors/_classification.py:215: DataConversionWarning: A column-vector y was passed when a 1d array was expected. Please change the shape of y to (n_samples,), for example using ravel().\n",
      "  return self._fit(X, y)\n",
      
     ]
    },
    {
     "name": "stderr",
     "output_type": "stream",
     "text": [
      "/home/anna/notebooks/nb_env/lib/python3.10/site-packages/sklearn/neighbors/_classification.py:215: DataConversionWarning: A column-vector y was passed when a 1d array was expected. Please change the shape of y to (n_samples,), for example using ravel().\n",
     
     ]
    },
    {
     "name": "stderr",
     "output_type": "stream",
     "text": [
      "/home/anna/notebooks/nb_env/lib/python3.10/site-packages/sklearn/neighbors/_classification.py:215: DataConversionWarning: A column-vector y was passed when a 1d array was expected. Please change the shape of y to (n_samples,), for example using ravel().\n",
      
     ]
    },
    {
     "data": {
      "text/html": [
       "<style>#sk-container-id-9 {color: black;background-color: white;}#sk-container-id-9 pre{padding: 0;}#sk-container-id-9 div.sk-toggleable {background-color: white;}#sk-container-id-9 label.sk-toggleable__label {cursor: pointer;display: block;width: 100%;margin-bottom: 0;padding: 0.3em;box-sizing: border-box;text-align: center;}#sk-container-id-9 label.sk-toggleable__label-arrow:before {content: \"▸\";float: left;margin-right: 0.25em;color: #696969;}#sk-container-id-9 label.sk-toggleable__label-arrow:hover:before {color: black;}#sk-container-id-9 div.sk-estimator:hover label.sk-toggleable__label-arrow:before {color: black;}#sk-container-id-9 div.sk-toggleable__content {max-height: 0;max-width: 0;overflow: hidden;text-align: left;background-color: #f0f8ff;}#sk-container-id-9 div.sk-toggleable__content pre {margin: 0.2em;color: black;border-radius: 0.25em;background-color: #f0f8ff;}#sk-container-id-9 input.sk-toggleable__control:checked~div.sk-toggleable__content {max-height: 200px;max-width: 100%;overflow: auto;}#sk-container-id-9 input.sk-toggleable__control:checked~label.sk-toggleable__label-arrow:before {content: \"▾\";}#sk-container-id-9 div.sk-estimator input.sk-toggleable__control:checked~label.sk-toggleable__label {background-color: #d4ebff;}#sk-container-id-9 div.sk-label input.sk-toggleable__control:checked~label.sk-toggleable__label {background-color: #d4ebff;}#sk-container-id-9 input.sk-hidden--visually {border: 0;clip: rect(1px 1px 1px 1px);clip: rect(1px, 1px, 1px, 1px);height: 1px;margin: -1px;overflow: hidden;padding: 0;position: absolute;width: 1px;}#sk-container-id-9 div.sk-estimator {font-family: monospace;background-color: #f0f8ff;border: 1px dotted black;border-radius: 0.25em;box-sizing: border-box;margin-bottom: 0.5em;}#sk-container-id-9 div.sk-estimator:hover {background-color: #d4ebff;}#sk-container-id-9 div.sk-parallel-item::after {content: \"\";width: 100%;border-bottom: 1px solid gray;flex-grow: 1;}#sk-container-id-9 div.sk-label:hover label.sk-toggleable__label {background-color: #d4ebff;}#sk-container-id-9 div.sk-serial::before {content: \"\";position: absolute;border-left: 1px solid gray;box-sizing: border-box;top: 0;bottom: 0;left: 50%;z-index: 0;}#sk-container-id-9 div.sk-serial {display: flex;flex-direction: column;align-items: center;background-color: white;padding-right: 0.2em;padding-left: 0.2em;position: relative;}#sk-container-id-9 div.sk-item {position: relative;z-index: 1;}#sk-container-id-9 div.sk-parallel {display: flex;align-items: stretch;justify-content: center;background-color: white;position: relative;}#sk-container-id-9 div.sk-item::before, #sk-container-id-9 div.sk-parallel-item::before {content: \"\";position: absolute;border-left: 1px solid gray;box-sizing: border-box;top: 0;bottom: 0;left: 50%;z-index: -1;}#sk-container-id-9 div.sk-parallel-item {display: flex;flex-direction: column;z-index: 1;position: relative;background-color: white;}#sk-container-id-9 div.sk-parallel-item:first-child::after {align-self: flex-end;width: 50%;}#sk-container-id-9 div.sk-parallel-item:last-child::after {align-self: flex-start;width: 50%;}#sk-container-id-9 div.sk-parallel-item:only-child::after {width: 0;}#sk-container-id-9 div.sk-dashed-wrapped {border: 1px dashed gray;margin: 0 0.4em 0.5em 0.4em;box-sizing: border-box;padding-bottom: 0.4em;background-color: white;}#sk-container-id-9 div.sk-label label {font-family: monospace;font-weight: bold;display: inline-block;line-height: 1.2em;}#sk-container-id-9 div.sk-label-container {text-align: center;}#sk-container-id-9 div.sk-container {/* jupyter's `normalize.less` sets `[hidden] { display: none; }` but bootstrap.min.css set `[hidden] { display: none !important; }` so we also need the `!important` here to be able to override the default hidden behavior on the sphinx rendered scikit-learn.org. See: https://github.com/scikit-learn/scikit-learn/issues/21755 */display: inline-block !important;position: relative;}#sk-container-id-9 div.sk-text-repr-fallback {display: none;}</style><div id=\"sk-container-id-9\" class=\"sk-top-container\"><div class=\"sk-text-repr-fallback\"><pre>GridSearchCV(cv=5, estimator=KNeighborsClassifier(),\n",
       "             param_grid=[{&#x27;n_neighbors&#x27;: array([ 2,  3,  4,  5,  6,  7,  8,  9, 10, 11, 12, 13, 14, 15, 16, 17, 18,\n",
       "       19, 20, 21, 22, 23, 24, 25, 26, 27, 28, 29])}],\n",
       "             scoring=&#x27;accuracy&#x27;)</pre><b>In a Jupyter environment, please rerun this cell to show the HTML representation or trust the notebook. <br />On GitHub, the HTML representation is unable to render, please try loading this page with nbviewer.org.</b></div><div class=\"sk-container\" hidden><div class=\"sk-item sk-dashed-wrapped\"><div class=\"sk-label-container\"><div class=\"sk-label sk-toggleable\"><input class=\"sk-toggleable__control sk-hidden--visually\" id=\"sk-estimator-id-25\" type=\"checkbox\" ><label for=\"sk-estimator-id-25\" class=\"sk-toggleable__label sk-toggleable__label-arrow\">GridSearchCV</label><div class=\"sk-toggleable__content\"><pre>GridSearchCV(cv=5, estimator=KNeighborsClassifier(),\n",
       "             param_grid=[{&#x27;n_neighbors&#x27;: array([ 2,  3,  4,  5,  6,  7,  8,  9, 10, 11, 12, 13, 14, 15, 16, 17, 18,\n",
       "       19, 20, 21, 22, 23, 24, 25, 26, 27, 28, 29])}],\n",
       "             scoring=&#x27;accuracy&#x27;)</pre></div></div></div><div class=\"sk-parallel\"><div class=\"sk-parallel-item\"><div class=\"sk-item\"><div class=\"sk-label-container\"><div class=\"sk-label sk-toggleable\"><input class=\"sk-toggleable__control sk-hidden--visually\" id=\"sk-estimator-id-26\" type=\"checkbox\" ><label for=\"sk-estimator-id-26\" class=\"sk-toggleable__label sk-toggleable__label-arrow\">estimator: KNeighborsClassifier</label><div class=\"sk-toggleable__content\"><pre>KNeighborsClassifier()</pre></div></div></div><div class=\"sk-serial\"><div class=\"sk-item\"><div class=\"sk-estimator sk-toggleable\"><input class=\"sk-toggleable__control sk-hidden--visually\" id=\"sk-estimator-id-27\" type=\"checkbox\" ><label for=\"sk-estimator-id-27\" class=\"sk-toggleable__label sk-toggleable__label-arrow\">KNeighborsClassifier</label><div class=\"sk-toggleable__content\"><pre>KNeighborsClassifier()</pre></div></div></div></div></div></div></div></div></div></div>"
      ],
      "text/plain": [
       "GridSearchCV(cv=5, estimator=KNeighborsClassifier(),\n",
       "             param_grid=[{'n_neighbors': array([ 2,  3,  4,  5,  6,  7,  8,  9, 10, 11, 12, 13, 14, 15, 16, 17, 18,\n",
       "       19, 20, 21, 22, 23, 24, 25, 26, 27, 28, 29])}],\n",
       "             scoring='accuracy')"
      ]
     },
     "execution_count": 325,
     "metadata": {},
     "output_type": "execute_result"
    }
   ],
   "source": [
    "#GridSearchCV\n",
    "\n",
    "gs = GridSearchCV(KNeighborsClassifier(), tuned_parameters, cv=5, scoring='accuracy')\n",
    "gs.fit(x_train, y_train)"
   ]
  },
  {
   "cell_type": "code",
   "execution_count": 326,
   "id": "538e6dfb",
   "metadata": {},
   "outputs": [],
   "source": [
    "best_cl = gs.best_estimator_"
   ]
  },
  {
   "cell_type": "code",
   "execution_count": 327,
   "id": "cd635e05",
   "metadata": {},
   "outputs": [
    {
     "data": {
      "text/plain": [
       "[0.961111111111111, {'n_neighbors': 2}]"
      ]
     },
     "execution_count": 327,
     "metadata": {},
     "output_type": "execute_result"
    }
   ],
   "source": [
    "[gs.best_score_, gs.best_params_]"
   ]
  },
  {
   "cell_type": "code",
   "execution_count": 328,
   "id": "194416a4",
   "metadata": {},
   "outputs": [
    {
     "name": "stderr",
     "output_type": "stream",
     "text": [
      "/home/anna/notebooks/nb_env/lib/python3.10/site-packages/sklearn/neighbors/_classification.py:215: DataConversionWarning: A column-vector y was passed when a 1d array was expected. Please change the shape of y to (n_samples,), for example using ravel().\n",
      "  return self._fit(X, y)\n",
      
     ]
    },
    {
     "name": "stderr",
     "output_type": "stream",
     "text": [
      "/home/anna/notebooks/nb_env/lib/python3.10/site-packages/sklearn/neighbors/_classification.py:215: DataConversionWarning: A column-vector y was passed when a 1d array was expected. Please change the shape of y to (n_samples,), for example using ravel().\n",
      "  return self._fit(X, y)\n",
     
     ]
    },
    {
     "data": {
      "text/html": [
       "<style>#sk-container-id-10 {color: black;background-color: white;}#sk-container-id-10 pre{padding: 0;}#sk-container-id-10 div.sk-toggleable {background-color: white;}#sk-container-id-10 label.sk-toggleable__label {cursor: pointer;display: block;width: 100%;margin-bottom: 0;padding: 0.3em;box-sizing: border-box;text-align: center;}#sk-container-id-10 label.sk-toggleable__label-arrow:before {content: \"▸\";float: left;margin-right: 0.25em;color: #696969;}#sk-container-id-10 label.sk-toggleable__label-arrow:hover:before {color: black;}#sk-container-id-10 div.sk-estimator:hover label.sk-toggleable__label-arrow:before {color: black;}#sk-container-id-10 div.sk-toggleable__content {max-height: 0;max-width: 0;overflow: hidden;text-align: left;background-color: #f0f8ff;}#sk-container-id-10 div.sk-toggleable__content pre {margin: 0.2em;color: black;border-radius: 0.25em;background-color: #f0f8ff;}#sk-container-id-10 input.sk-toggleable__control:checked~div.sk-toggleable__content {max-height: 200px;max-width: 100%;overflow: auto;}#sk-container-id-10 input.sk-toggleable__control:checked~label.sk-toggleable__label-arrow:before {content: \"▾\";}#sk-container-id-10 div.sk-estimator input.sk-toggleable__control:checked~label.sk-toggleable__label {background-color: #d4ebff;}#sk-container-id-10 div.sk-label input.sk-toggleable__control:checked~label.sk-toggleable__label {background-color: #d4ebff;}#sk-container-id-10 input.sk-hidden--visually {border: 0;clip: rect(1px 1px 1px 1px);clip: rect(1px, 1px, 1px, 1px);height: 1px;margin: -1px;overflow: hidden;padding: 0;position: absolute;width: 1px;}#sk-container-id-10 div.sk-estimator {font-family: monospace;background-color: #f0f8ff;border: 1px dotted black;border-radius: 0.25em;box-sizing: border-box;margin-bottom: 0.5em;}#sk-container-id-10 div.sk-estimator:hover {background-color: #d4ebff;}#sk-container-id-10 div.sk-parallel-item::after {content: \"\";width: 100%;border-bottom: 1px solid gray;flex-grow: 1;}#sk-container-id-10 div.sk-label:hover label.sk-toggleable__label {background-color: #d4ebff;}#sk-container-id-10 div.sk-serial::before {content: \"\";position: absolute;border-left: 1px solid gray;box-sizing: border-box;top: 0;bottom: 0;left: 50%;z-index: 0;}#sk-container-id-10 div.sk-serial {display: flex;flex-direction: column;align-items: center;background-color: white;padding-right: 0.2em;padding-left: 0.2em;position: relative;}#sk-container-id-10 div.sk-item {position: relative;z-index: 1;}#sk-container-id-10 div.sk-parallel {display: flex;align-items: stretch;justify-content: center;background-color: white;position: relative;}#sk-container-id-10 div.sk-item::before, #sk-container-id-10 div.sk-parallel-item::before {content: \"\";position: absolute;border-left: 1px solid gray;box-sizing: border-box;top: 0;bottom: 0;left: 50%;z-index: -1;}#sk-container-id-10 div.sk-parallel-item {display: flex;flex-direction: column;z-index: 1;position: relative;background-color: white;}#sk-container-id-10 div.sk-parallel-item:first-child::after {align-self: flex-end;width: 50%;}#sk-container-id-10 div.sk-parallel-item:last-child::after {align-self: flex-start;width: 50%;}#sk-container-id-10 div.sk-parallel-item:only-child::after {width: 0;}#sk-container-id-10 div.sk-dashed-wrapped {border: 1px dashed gray;margin: 0 0.4em 0.5em 0.4em;box-sizing: border-box;padding-bottom: 0.4em;background-color: white;}#sk-container-id-10 div.sk-label label {font-family: monospace;font-weight: bold;display: inline-block;line-height: 1.2em;}#sk-container-id-10 div.sk-label-container {text-align: center;}#sk-container-id-10 div.sk-container {/* jupyter's `normalize.less` sets `[hidden] { display: none; }` but bootstrap.min.css set `[hidden] { display: none !important; }` so we also need the `!important` here to be able to override the default hidden behavior on the sphinx rendered scikit-learn.org. See: https://github.com/scikit-learn/scikit-learn/issues/21755 */display: inline-block !important;position: relative;}#sk-container-id-10 div.sk-text-repr-fallback {display: none;}</style><div id=\"sk-container-id-10\" class=\"sk-top-container\"><div class=\"sk-text-repr-fallback\"><pre>RandomizedSearchCV(cv=5, estimator=KNeighborsClassifier(),\n",
       "                   param_distributions=[{&#x27;n_neighbors&#x27;: array([ 2,  3,  4,  5,  6,  7,  8,  9, 10, 11, 12, 13, 14, 15, 16, 17, 18,\n",
       "       19, 20, 21, 22, 23, 24, 25, 26, 27, 28, 29])}],\n",
       "                   scoring=&#x27;accuracy&#x27;)</pre><b>In a Jupyter environment, please rerun this cell to show the HTML representation or trust the notebook. <br />On GitHub, the HTML representation is unable to render, please try loading this page with nbviewer.org.</b></div><div class=\"sk-container\" hidden><div class=\"sk-item sk-dashed-wrapped\"><div class=\"sk-label-container\"><div class=\"sk-label sk-toggleable\"><input class=\"sk-toggleable__control sk-hidden--visually\" id=\"sk-estimator-id-28\" type=\"checkbox\" ><label for=\"sk-estimator-id-28\" class=\"sk-toggleable__label sk-toggleable__label-arrow\">RandomizedSearchCV</label><div class=\"sk-toggleable__content\"><pre>RandomizedSearchCV(cv=5, estimator=KNeighborsClassifier(),\n",
       "                   param_distributions=[{&#x27;n_neighbors&#x27;: array([ 2,  3,  4,  5,  6,  7,  8,  9, 10, 11, 12, 13, 14, 15, 16, 17, 18,\n",
       "       19, 20, 21, 22, 23, 24, 25, 26, 27, 28, 29])}],\n",
       "                   scoring=&#x27;accuracy&#x27;)</pre></div></div></div><div class=\"sk-parallel\"><div class=\"sk-parallel-item\"><div class=\"sk-item\"><div class=\"sk-label-container\"><div class=\"sk-label sk-toggleable\"><input class=\"sk-toggleable__control sk-hidden--visually\" id=\"sk-estimator-id-29\" type=\"checkbox\" ><label for=\"sk-estimator-id-29\" class=\"sk-toggleable__label sk-toggleable__label-arrow\">estimator: KNeighborsClassifier</label><div class=\"sk-toggleable__content\"><pre>KNeighborsClassifier()</pre></div></div></div><div class=\"sk-serial\"><div class=\"sk-item\"><div class=\"sk-estimator sk-toggleable\"><input class=\"sk-toggleable__control sk-hidden--visually\" id=\"sk-estimator-id-30\" type=\"checkbox\" ><label for=\"sk-estimator-id-30\" class=\"sk-toggleable__label sk-toggleable__label-arrow\">KNeighborsClassifier</label><div class=\"sk-toggleable__content\"><pre>KNeighborsClassifier()</pre></div></div></div></div></div></div></div></div></div></div>"
      ],
      "text/plain": [
       "RandomizedSearchCV(cv=5, estimator=KNeighborsClassifier(),\n",
       "                   param_distributions=[{'n_neighbors': array([ 2,  3,  4,  5,  6,  7,  8,  9, 10, 11, 12, 13, 14, 15, 16, 17, 18,\n",
       "       19, 20, 21, 22, 23, 24, 25, 26, 27, 28, 29])}],\n",
       "                   scoring='accuracy')"
      ]
     },
     "execution_count": 328,
     "metadata": {},
     "output_type": "execute_result"
    }
   ],
   "source": [
    "#RandomisedSearchCV\n",
    "\n",
    "rs = RandomizedSearchCV(KNeighborsClassifier(), tuned_parameters, cv=5, scoring='accuracy')\n",
    "rs.fit(x_train, y_train)"
   ]
  },
  {
   "cell_type": "code",
   "execution_count": 329,
   "id": "278352d0",
   "metadata": {},
   "outputs": [
    {
     "data": {
      "text/plain": [
       "[0.9333333333333332, {'n_neighbors': 6}]"
      ]
     },
     "execution_count": 329,
     "metadata": {},
     "output_type": "execute_result"
    }
   ],
   "source": [
    "[rs.best_score_, rs.best_params_]"
   ]
  },
  {
   "cell_type": "markdown",
   "id": "3cb7ebd4",
   "metadata": {},
   "source": []
  },
  {
   "cell_type": "markdown",
   "id": "a1ea2b3d",
   "metadata": {},
   "source": [
    "### Кросс-валидация"
   ]
  },
  {
   "cell_type": "code",
   "execution_count": 330,
   "id": "3ba1187e",
   "metadata": {},
   "outputs": [
    {
     "name": "stderr",
     "output_type": "stream",
     "text": [
      "/home/anna/notebooks/nb_env/lib/python3.10/site-packages/sklearn/neighbors/_classification.py:215: DataConversionWarning: A column-vector y was passed when a 1d array was expected. Please change the shape of y to (n_samples,), for example using ravel().\n",
     
     ]
    }
   ],
   "source": [
    "# K-fold\n",
    "from sklearn.model_selection import cross_val_score, cross_validate\n",
    "from sklearn.model_selection import KFold, ShuffleSplit\n",
    "kf = KFold(n_splits=10)\n",
    "best_scores = cross_val_score(KNeighborsClassifier(n_neighbors=2), \n",
    "                         stars[[\"Temperature\", \"L\", \"R\", \"A_M\", \"Color\", \"Spectral_Class\"]], stars[[\"Type\"]],\n",
    "                         scoring='accuracy', cv=kf)\n",
    "def_scores = cross_val_score(KNeighborsClassifier(n_neighbors=10), \n",
    "                         stars[[\"Temperature\", \"L\", \"R\", \"A_M\", \"Color\", \"Spectral_Class\"]], stars[[\"Type\"]],\n",
    "                         scoring='accuracy', cv=kf)"
   ]
  },
  {
   "cell_type": "code",
   "execution_count": 331,
   "id": "14a5feb3",
   "metadata": {},
   "outputs": [
    {
     "data": {
      "text/html": [
       "<div>\n",
       "<style scoped>\n",
       "    .dataframe tbody tr th:only-of-type {\n",
       "        vertical-align: middle;\n",
       "    }\n",
       "\n",
       "    .dataframe tbody tr th {\n",
       "        vertical-align: top;\n",
       "    }\n",
       "\n",
       "    .dataframe thead th {\n",
       "        text-align: right;\n",
       "    }\n",
       "</style>\n",
       "<table border=\"1\" class=\"dataframe\">\n",
       "  <thead>\n",
       "    <tr style=\"text-align: right;\">\n",
       "      <th></th>\n",
       "      <th>0</th>\n",
       "      <th>1</th>\n",
       "      <th>2</th>\n",
       "      <th>3</th>\n",
       "      <th>4</th>\n",
       "      <th>5</th>\n",
       "      <th>6</th>\n",
       "      <th>7</th>\n",
       "      <th>8</th>\n",
       "      <th>9</th>\n",
       "    </tr>\n",
       "  </thead>\n",
       "  <tbody>\n",
       "    <tr>\n",
       "      <th>0</th>\n",
       "      <td>1.0</td>\n",
       "      <td>0.875000</td>\n",
       "      <td>0.958333</td>\n",
       "      <td>0.958333</td>\n",
       "      <td>0.875</td>\n",
       "      <td>1.0</td>\n",
       "      <td>1.000000</td>\n",
       "      <td>0.916667</td>\n",
       "      <td>1.000000</td>\n",
       "      <td>0.875000</td>\n",
       "    </tr>\n",
       "    <tr>\n",
       "      <th>1</th>\n",
       "      <td>1.0</td>\n",
       "      <td>0.833333</td>\n",
       "      <td>0.958333</td>\n",
       "      <td>0.958333</td>\n",
       "      <td>0.875</td>\n",
       "      <td>1.0</td>\n",
       "      <td>0.958333</td>\n",
       "      <td>0.875000</td>\n",
       "      <td>0.916667</td>\n",
       "      <td>0.833333</td>\n",
       "    </tr>\n",
       "  </tbody>\n",
       "</table>\n",
       "</div>"
      ],
      "text/plain": [
       "     0         1         2         3      4    5         6         7   \n",
       "0  1.0  0.875000  0.958333  0.958333  0.875  1.0  1.000000  0.916667  \\\n",
       "1  1.0  0.833333  0.958333  0.958333  0.875  1.0  0.958333  0.875000   \n",
       "\n",
       "          8         9  \n",
       "0  1.000000  0.875000  \n",
       "1  0.916667  0.833333  "
      ]
     },
     "execution_count": 331,
     "metadata": {},
     "output_type": "execute_result"
    }
   ],
   "source": [
    "scores = pd.DataFrame([best_scores, def_scores])\n",
    "scores"
   ]
  },
  {
   "cell_type": "code",
   "execution_count": 332,
   "id": "72e2daa6",
   "metadata": {},
   "outputs": [],
   "source": [
    "#ShuffleSplit\n",
    "ss = ShuffleSplit(n_splits=10, test_size=0.25)"
   ]
  },
  {
   "cell_type": "code",
   "execution_count": 333,
   "id": "459bdd2f",
   "metadata": {},
   "outputs": [
    {
     "name": "stderr",
     "output_type": "stream",
     "text": [
      "/home/anna/notebooks/nb_env/lib/python3.10/site-packages/sklearn/neighbors/_classification.py:215: DataConversionWarning: A column-vector y was passed when a 1d array was expected. Please change the shape of y to (n_samples,), for example using ravel().\n",
      "  return self._fit(X, y)\n",
      
     ]
    }
   ],
   "source": [
    "best_scores = cross_val_score(KNeighborsClassifier(n_neighbors=2), \n",
    "                         stars[[\"Temperature\", \"L\", \"R\", \"A_M\", \"Color\", \"Spectral_Class\"]], stars[[\"Type\"]],\n",
    "                         scoring='accuracy', cv=ss)\n",
    "def_scores = cross_val_score(KNeighborsClassifier(n_neighbors=10), \n",
    "                         stars[[\"Temperature\", \"L\", \"R\", \"A_M\", \"Color\", \"Spectral_Class\"]], stars[[\"Type\"]],\n",
    "                         scoring='accuracy', cv=ss)"
   ]
  },
  {
   "cell_type": "code",
   "execution_count": 334,
   "id": "2cdccfd7",
   "metadata": {},
   "outputs": [
    {
     "data": {
      "text/html": [
       "<div>\n",
       "<style scoped>\n",
       "    .dataframe tbody tr th:only-of-type {\n",
       "        vertical-align: middle;\n",
       "    }\n",
       "\n",
       "    .dataframe tbody tr th {\n",
       "        vertical-align: top;\n",
       "    }\n",
       "\n",
       "    .dataframe thead th {\n",
       "        text-align: right;\n",
       "    }\n",
       "</style>\n",
       "<table border=\"1\" class=\"dataframe\">\n",
       "  <thead>\n",
       "    <tr style=\"text-align: right;\">\n",
       "      <th></th>\n",
       "      <th>0</th>\n",
       "      <th>1</th>\n",
       "      <th>2</th>\n",
       "      <th>3</th>\n",
       "      <th>4</th>\n",
       "      <th>5</th>\n",
       "      <th>6</th>\n",
       "      <th>7</th>\n",
       "      <th>8</th>\n",
       "      <th>9</th>\n",
       "    </tr>\n",
       "  </thead>\n",
       "  <tbody>\n",
       "    <tr>\n",
       "      <th>0</th>\n",
       "      <td>0.950000</td>\n",
       "      <td>1.000000</td>\n",
       "      <td>0.966667</td>\n",
       "      <td>0.95</td>\n",
       "      <td>0.966667</td>\n",
       "      <td>0.983333</td>\n",
       "      <td>0.983333</td>\n",
       "      <td>0.983333</td>\n",
       "      <td>0.983333</td>\n",
       "      <td>0.983333</td>\n",
       "    </tr>\n",
       "    <tr>\n",
       "      <th>1</th>\n",
       "      <td>0.933333</td>\n",
       "      <td>0.933333</td>\n",
       "      <td>0.966667</td>\n",
       "      <td>0.90</td>\n",
       "      <td>0.900000</td>\n",
       "      <td>0.933333</td>\n",
       "      <td>0.966667</td>\n",
       "      <td>0.983333</td>\n",
       "      <td>0.933333</td>\n",
       "      <td>0.966667</td>\n",
       "    </tr>\n",
       "  </tbody>\n",
       "</table>\n",
       "</div>"
      ],
      "text/plain": [
       "          0         1         2     3         4         5         6         7   \n",
       "0  0.950000  1.000000  0.966667  0.95  0.966667  0.983333  0.983333  0.983333  \\\n",
       "1  0.933333  0.933333  0.966667  0.90  0.900000  0.933333  0.966667  0.983333   \n",
       "\n",
       "          8         9  \n",
       "0  0.983333  0.983333  \n",
       "1  0.933333  0.966667  "
      ]
     },
     "execution_count": 334,
     "metadata": {},
     "output_type": "execute_result"
    }
   ],
   "source": [
    "scores = pd.DataFrame([best_scores, def_scores])\n",
    "scores"
   ]
  },
  {
   "cell_type": "code",
   "execution_count": null,
   "id": "2b1b8c47",
   "metadata": {},
   "outputs": [],
   "source": []
  }
 ],
 "metadata": {
  "kernelspec": {
   "display_name": "Python 3 (ipykernel)",
   "language": "python",
   "name": "python3"
  },
  "language_info": {
   "codemirror_mode": {
    "name": "ipython",
    "version": 3
   },
   "file_extension": ".py",
   "mimetype": "text/x-python",
   "name": "python",
   "nbconvert_exporter": "python",
   "pygments_lexer": "ipython3",
   "version": "3.10.6"
  }
 },
 "nbformat": 4,
 "nbformat_minor": 5
}
